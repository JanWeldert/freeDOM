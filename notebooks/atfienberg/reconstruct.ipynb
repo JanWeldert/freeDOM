{
 "cells": [
  {
   "cell_type": "markdown",
   "metadata": {},
   "source": [
    "### Reconstruct all events using four GPUs and the CRS2 spherical optimizer running in batch mode"
   ]
  },
  {
   "cell_type": "code",
   "execution_count": 1,
   "metadata": {},
   "outputs": [],
   "source": [
    "import pickle\n",
    "import math\n",
    "import time\n",
    "import pkg_resources\n",
    "\n",
    "from functools import partial\n",
    "from multiprocessing import Process, Pool\n",
    "\n",
    "import numpy as np\n",
    "import pandas as pd\n",
    "\n",
    "from freedom.llh_service.llh_service import LLHService\n",
    "from freedom.reco import crs_reco\n",
    "from freedom.reco import summary_df"
   ]
  },
  {
   "cell_type": "code",
   "execution_count": 2,
   "metadata": {},
   "outputs": [],
   "source": [
    "with open('/home/atfienberg/freedomDataCopy/public_for_aaron/test_events.pkl', 'rb') as f:\n",
    "    events = pickle.load(f)"
   ]
  },
  {
   "cell_type": "code",
   "execution_count": 3,
   "metadata": {},
   "outputs": [],
   "source": [
    "allowed_DOMs = np.load(pkg_resources.resource_filename('freedom', 'resources/allowed_DOMs.npy'))\n",
    "ndoms = len(allowed_DOMs)"
   ]
  },
  {
   "cell_type": "markdown",
   "metadata": {},
   "source": [
    "### Specify n live points"
   ]
  },
  {
   "cell_type": "code",
   "execution_count": 4,
   "metadata": {},
   "outputs": [],
   "source": [
    "n_live_points = 97"
   ]
  },
  {
   "cell_type": "markdown",
   "metadata": {},
   "source": [
    "### Define allowed search ranges and initial box limits"
   ]
  },
  {
   "cell_type": "code",
   "execution_count": 5,
   "metadata": {},
   "outputs": [],
   "source": [
    "init_pos_range = 50\n",
    "\n",
    "time_range = (-1000, 0)\n",
    "\n",
    "log_energy_range = [0, 1.7]\n",
    "\n",
    "init_range = np.array( [[-init_pos_range, init_pos_range],\n",
    "                        [-init_pos_range, init_pos_range],\n",
    "                        [-2*init_pos_range, 2*init_pos_range],\n",
    "                        [time_range[0], time_range[1]],\n",
    "                        [0, 2*math.pi],\n",
    "                        [0, math.pi],\n",
    "                        [log_energy_range[0], log_energy_range[1]],\n",
    "                        [log_energy_range[0], log_energy_range[1]]])\n",
    "\n",
    "# define limits of search range \n",
    "param_search_limits = np.array([\n",
    "    [-200, 200],\n",
    "    [-250, 250],\n",
    "    [-800, -200],\n",
    "    [8000, 11000],\n",
    "    [0, 2*math.pi],\n",
    "    [0, math.pi],\n",
    "    [5, 400],\n",
    "    [0.1, 400]\n",
    "]).T"
   ]
  },
  {
   "cell_type": "markdown",
   "metadata": {},
   "source": [
    "### llh service configuration:"
   ]
  },
  {
   "cell_type": "code",
   "execution_count": 6,
   "metadata": {},
   "outputs": [],
   "source": [
    "service_conf = {\n",
    "        \"poll_timeout\": 1,\n",
    "        \"flush_period\": 1,\n",
    "        \"n_hypo_params\": 8,\n",
    "        \"n_hit_features\": 9,\n",
    "        \"n_evt_features\": 2,\n",
    "        \"batch_size\" : {\n",
    "          \"n_hypos\": 200,\n",
    "          \"n_observations\": 6000, \n",
    "        },\n",
    "        \"send_hwm\": 10000,\n",
    "        \"recv_hwm\": 10000,\n",
    "#         \"hitnet_file\": \"/home/atfienberg/freedomDataCopy/public_for_aaron/HitNet_ranger_30_Jul_2020-15h49/epoch_32_model.hdf5\",\n",
    "#         \"domnet_file\": \"/home/atfienberg/freedomDataCopy/public_for_aaron/DOMNet_reduced_22_Jul_2020-15h18/epoch_30_model.hdf5\",\n",
    "        \"hitnet_file\": \"/home/atfienberg/freedomDataCopy/public_for_aaron/HitNet_ranger_14_Jul_2020-08h03/epoch_32_model.hdf5\",\n",
    "        \"chargenet_file\": \"ChargeNet_nChannels_22_May_2020-11h05/epoch_400_model.hdf5\",\n",
    "        \"ndoms\": ndoms,\n",
    "        \"boundary_guard\": {\n",
    "                           \"file\": \"/home/atfienberg/freedomDataCopy/public_for_aaron/boundary_guard_softplus_17_Dec_2020/test_model_softplus_poisson.hdf5\",\n",
    "                           \"bg_lim\": 1500,\n",
    "                           \"invalid_llh\": 1e9,\n",
    "        }\n",
    "}"
   ]
  },
  {
   "cell_type": "code",
   "execution_count": 7,
   "metadata": {},
   "outputs": [],
   "source": [
    "# add hit_data, evt_data keys based on the networks being used\n",
    "# for now, support domnet and chargenet\n",
    "for event in events:\n",
    "    if service_conf['n_hit_features'] == 8:\n",
    "        event['hit_data'] = event['hits'][:, :8]\n",
    "    else:\n",
    "        event['hit_data'] = event['hits']\n",
    "        \n",
    "    if 'domnet_file' in service_conf:\n",
    "        event['evt_data'] = event['doms'][allowed_DOMs]\n",
    "    else:\n",
    "        event['evt_data'] = event['total_charge']"
   ]
  },
  {
   "cell_type": "markdown",
   "metadata": {},
   "source": [
    "### Build four services, one per GPU"
   ]
  },
  {
   "cell_type": "code",
   "execution_count": 8,
   "metadata": {},
   "outputs": [],
   "source": [
    "n_gpus = 4"
   ]
  },
  {
   "cell_type": "code",
   "execution_count": 9,
   "metadata": {},
   "outputs": [],
   "source": [
    "base_req = \"ipc:///tmp/atfrecotestreq\"\n",
    "base_ctrl = \"ipc:///tmp/atfrecotestctrl\"\n",
    "\n",
    "req_addrs = []\n",
    "ctrl_addrs = []\n",
    "for i in range(n_gpus):\n",
    "    req_addrs.append(f'{base_req}{i}')\n",
    "    ctrl_addrs.append(f'{base_ctrl}{i}')"
   ]
  },
  {
   "cell_type": "code",
   "execution_count": 10,
   "metadata": {},
   "outputs": [
    {
     "name": "stdout",
     "output_type": "stream",
     "text": [
      "['ipc:///tmp/atfrecotestreq0', 'ipc:///tmp/atfrecotestreq1', 'ipc:///tmp/atfrecotestreq2', 'ipc:///tmp/atfrecotestreq3']\n",
      "['ipc:///tmp/atfrecotestctrl0', 'ipc:///tmp/atfrecotestctrl1', 'ipc:///tmp/atfrecotestctrl2', 'ipc:///tmp/atfrecotestctrl3']\n"
     ]
    }
   ],
   "source": [
    "print(req_addrs)\n",
    "print(ctrl_addrs)"
   ]
  },
  {
   "cell_type": "code",
   "execution_count": 11,
   "metadata": {},
   "outputs": [
    {
     "name": "stdout",
     "output_type": "stream",
     "text": [
      "starting service work loop for gpu 0...\n",
      "starting service work loop for gpu 1...\n",
      "starting service work loop for gpu 3...\n",
      "starting service work loop for gpu 2...\n",
      "Received die command... flushing and exiting\n",
      "cleaning up\n",
      "Received die command... flushing and exiting\n",
      "cleaning up\n",
      "Received die command... flushing and exiting\n",
      "cleaning up\n",
      "Received die command... flushing and exiting\n",
      "cleaning up\n"
     ]
    }
   ],
   "source": [
    "procs = []\n",
    "for i in range(n_gpus):\n",
    "    proc = Process(target=crs_reco.start_service, args=(service_conf, ctrl_addrs[i], req_addrs[i] ,i))\n",
    "    proc.start()\n",
    "    procs.append(proc)"
   ]
  },
  {
   "cell_type": "markdown",
   "metadata": {},
   "source": [
    "### Fit a single event"
   ]
  },
  {
   "cell_type": "code",
   "execution_count": 12,
   "metadata": {},
   "outputs": [
    {
     "name": "stdout",
     "output_type": "stream",
     "text": [
      "CPU times: user 520 ms, sys: 20 ms, total: 540 ms\n",
      "Wall time: 9.89 s\n"
     ]
    }
   ],
   "source": [
    "%%time\n",
    "test_out = crs_reco.fit_events(events[:1], 0, ctrl_addrs, init_range, \n",
    "                               param_search_limits, n_live_points,\n",
    "                               batch_size=12, spherical_indices=[[4,5]])"
   ]
  },
  {
   "cell_type": "code",
   "execution_count": 13,
   "metadata": {},
   "outputs": [
    {
     "name": "stdout",
     "output_type": "stream",
     "text": [
      "-26.799736\n",
      "-20.648993\n",
      "-19.15583\n",
      "---\n",
      "4035\n",
      "200\n"
     ]
    }
   ],
   "source": [
    "print(test_out[0][0]['fun'])\n",
    "print(test_out[0][1])\n",
    "print(test_out[0][2])\n",
    "print('---')\n",
    "print(test_out[0][0]['n_calls'])\n",
    "print(test_out[0][0]['nit'])"
   ]
  },
  {
   "cell_type": "code",
   "execution_count": 14,
   "metadata": {},
   "outputs": [
    {
     "name": "stdout",
     "output_type": "stream",
     "text": [
      "400\n"
     ]
    }
   ],
   "source": [
    "# events_to_process = len(events)\n",
    "events_to_process = 400\n",
    "pool_size = 200\n",
    "evts_per_proc = int(math.ceil(events_to_process/pool_size))\n",
    "evt_splits = [events[i*evts_per_proc:(i+1)*evts_per_proc] for i in range(pool_size)]\n",
    "print(sum(len(l) for l in evt_splits))"
   ]
  },
  {
   "cell_type": "code",
   "execution_count": 15,
   "metadata": {},
   "outputs": [],
   "source": [
    "gpu_inds = np.arange(pool_size) % n_gpus"
   ]
  },
  {
   "cell_type": "code",
   "execution_count": 16,
   "metadata": {},
   "outputs": [],
   "source": [
    "fit_events_partial = partial(\n",
    "        crs_reco.fit_events,\n",
    "        ctrl_addrs=ctrl_addrs,\n",
    "        init_range=init_range,\n",
    "        search_limits=param_search_limits,\n",
    "        n_live_points=n_live_points,\n",
    "        spherical_indices=[[4,5]],\n",
    "        batch_size=12,\n",
    ")"
   ]
  },
  {
   "cell_type": "code",
   "execution_count": 17,
   "metadata": {},
   "outputs": [
    {
     "name": "stdout",
     "output_type": "stream",
     "text": [
      "CPU times: user 488 ms, sys: 3.29 s, total: 3.78 s\n",
      "Wall time: 44.3 s\n"
     ]
    }
   ],
   "source": [
    "%%time\n",
    "start = time.time()\n",
    "# reconstruct with a worker pool; one LLH client per worker\n",
    "with Pool(pool_size) as p:\n",
    "    outs = p.starmap(fit_events_partial, zip(evt_splits, gpu_inds))\n",
    "delta = time.time() - start"
   ]
  },
  {
   "cell_type": "code",
   "execution_count": 18,
   "metadata": {},
   "outputs": [
    {
     "name": "stdout",
     "output_type": "stream",
     "text": [
      "measured time: 0.7 minutes\n"
     ]
    }
   ],
   "source": [
    "print(f'measured time: {delta/60:.1f} minutes')"
   ]
  },
  {
   "cell_type": "code",
   "execution_count": 19,
   "metadata": {},
   "outputs": [
    {
     "name": "stdout",
     "output_type": "stream",
     "text": [
      "400\n"
     ]
    }
   ],
   "source": [
    "print(sum(len(out) for out in outs))"
   ]
  },
  {
   "cell_type": "code",
   "execution_count": 20,
   "metadata": {},
   "outputs": [],
   "source": [
    "n_params = len(events[0]['params'])"
   ]
  },
  {
   "cell_type": "code",
   "execution_count": 21,
   "metadata": {},
   "outputs": [],
   "source": [
    "all_outs = sum((out for out in outs), [])"
   ]
  },
  {
   "cell_type": "markdown",
   "metadata": {},
   "source": [
    "Note: the following timing is from running on four Titan X GPUs in parallel"
   ]
  },
  {
   "cell_type": "code",
   "execution_count": 22,
   "metadata": {},
   "outputs": [
    {
     "name": "stdout",
     "output_type": "stream",
     "text": [
      "1945719 total calls\n",
      "96700 total iters\n",
      "4864.3 calls per event\n",
      "22.78 us per call\n",
      "241.8 iters per event\n",
      "458.38 us per iter\n"
     ]
    }
   ],
   "source": [
    "total_calls = sum(out[0]['n_calls'] for out in all_outs)\n",
    "total_iters = sum(out[0]['nit'] for out in all_outs)\n",
    "print(f'{total_calls} total calls')\n",
    "time_per_call = delta/total_calls\n",
    "print(f'{total_iters} total iters')\n",
    "time_per_iter = delta/total_iters\n",
    "print(f'{total_calls/len(all_outs):.1f} calls per event')\n",
    "print(f'{time_per_call*1e6:.2f} us per call')\n",
    "\n",
    "print(f'{total_iters/len(all_outs):.1f} iters per event')\n",
    "print(f'{time_per_iter*1e6:.2f} us per iter')"
   ]
  },
  {
   "cell_type": "code",
   "execution_count": 23,
   "metadata": {},
   "outputs": [],
   "source": [
    "par_names = ['x', 'y', 'z', 'time',\n",
    "             'azimuth', 'zenith', \n",
    "             'cascade energy', 'track energy']\n",
    "df = summary_df.build_summary_df(all_outs, par_names)"
   ]
  },
  {
   "cell_type": "code",
   "execution_count": 24,
   "metadata": {},
   "outputs": [
    {
     "name": "stdout",
     "output_type": "stream",
     "text": [
      "free fit better frac: 0.99\n"
     ]
    }
   ],
   "source": [
    "free_f_better = df[df.free_fit_llh < df.retro_p_llh + 10]\n",
    "frac = len(free_f_better)/len(df)\n",
    "print(f'free fit better frac: {frac:.2f}')"
   ]
  },
  {
   "cell_type": "code",
   "execution_count": 25,
   "metadata": {},
   "outputs": [],
   "source": [
    "bad = df[df.free_fit_llh >= df.retro_p_llh + 5]"
   ]
  },
  {
   "cell_type": "code",
   "execution_count": 26,
   "metadata": {},
   "outputs": [
    {
     "data": {
      "text/html": [
       "<div>\n",
       "<style scoped>\n",
       "    .dataframe tbody tr th:only-of-type {\n",
       "        vertical-align: middle;\n",
       "    }\n",
       "\n",
       "    .dataframe tbody tr th {\n",
       "        vertical-align: top;\n",
       "    }\n",
       "\n",
       "    .dataframe thead th {\n",
       "        text-align: right;\n",
       "    }\n",
       "</style>\n",
       "<table border=\"1\" class=\"dataframe\">\n",
       "  <thead>\n",
       "    <tr style=\"text-align: right;\">\n",
       "      <th></th>\n",
       "      <th>evt_idx</th>\n",
       "      <th>free_fit_llh</th>\n",
       "      <th>true_p_llh</th>\n",
       "      <th>retro_p_llh</th>\n",
       "      <th>n_calls</th>\n",
       "      <th>n_iters</th>\n",
       "      <th>x</th>\n",
       "      <th>y</th>\n",
       "      <th>z</th>\n",
       "      <th>time</th>\n",
       "      <th>azimuth</th>\n",
       "      <th>zenith</th>\n",
       "      <th>cascade energy</th>\n",
       "      <th>track energy</th>\n",
       "    </tr>\n",
       "  </thead>\n",
       "  <tbody>\n",
       "    <tr>\n",
       "      <th>54</th>\n",
       "      <td>54</td>\n",
       "      <td>-2.435423e+01</td>\n",
       "      <td>-2.981248e+01</td>\n",
       "      <td>-33.349403</td>\n",
       "      <td>3860</td>\n",
       "      <td>196</td>\n",
       "      <td>81.918444</td>\n",
       "      <td>-168.011801</td>\n",
       "      <td>-373.009579</td>\n",
       "      <td>9403.311885</td>\n",
       "      <td>4.630806</td>\n",
       "      <td>2.337713</td>\n",
       "      <td>26.858976</td>\n",
       "      <td>0.718241</td>\n",
       "    </tr>\n",
       "    <tr>\n",
       "      <th>260</th>\n",
       "      <td>260</td>\n",
       "      <td>-1.400080e+02</td>\n",
       "      <td>-2.717598e+02</td>\n",
       "      <td>-288.033752</td>\n",
       "      <td>5356</td>\n",
       "      <td>282</td>\n",
       "      <td>-106.846230</td>\n",
       "      <td>-175.500782</td>\n",
       "      <td>-369.971921</td>\n",
       "      <td>9286.698561</td>\n",
       "      <td>3.760740</td>\n",
       "      <td>1.136570</td>\n",
       "      <td>140.987643</td>\n",
       "      <td>49.344229</td>\n",
       "    </tr>\n",
       "    <tr>\n",
       "      <th>296</th>\n",
       "      <td>296</td>\n",
       "      <td>1.000000e+10</td>\n",
       "      <td>-3.776003e+01</td>\n",
       "      <td>-41.822254</td>\n",
       "      <td>97</td>\n",
       "      <td>0</td>\n",
       "      <td>89.847350</td>\n",
       "      <td>-18.710206</td>\n",
       "      <td>-238.421001</td>\n",
       "      <td>12496.720319</td>\n",
       "      <td>4.697346</td>\n",
       "      <td>0.249999</td>\n",
       "      <td>23.159452</td>\n",
       "      <td>6.859718</td>\n",
       "    </tr>\n",
       "    <tr>\n",
       "      <th>305</th>\n",
       "      <td>305</td>\n",
       "      <td>-2.827037e+02</td>\n",
       "      <td>-2.698645e+02</td>\n",
       "      <td>-288.172119</td>\n",
       "      <td>5137</td>\n",
       "      <td>265</td>\n",
       "      <td>32.021592</td>\n",
       "      <td>-29.743713</td>\n",
       "      <td>-396.006449</td>\n",
       "      <td>9710.709720</td>\n",
       "      <td>1.596842</td>\n",
       "      <td>2.245904</td>\n",
       "      <td>5.056162</td>\n",
       "      <td>18.650123</td>\n",
       "    </tr>\n",
       "    <tr>\n",
       "      <th>318</th>\n",
       "      <td>318</td>\n",
       "      <td>-8.392945e+01</td>\n",
       "      <td>1.000000e+09</td>\n",
       "      <td>-110.495117</td>\n",
       "      <td>3019</td>\n",
       "      <td>160</td>\n",
       "      <td>120.232529</td>\n",
       "      <td>-134.267749</td>\n",
       "      <td>-205.578426</td>\n",
       "      <td>9280.817559</td>\n",
       "      <td>4.087020</td>\n",
       "      <td>0.793031</td>\n",
       "      <td>31.100011</td>\n",
       "      <td>47.157038</td>\n",
       "    </tr>\n",
       "  </tbody>\n",
       "</table>\n",
       "</div>"
      ],
      "text/plain": [
       "     evt_idx  free_fit_llh    true_p_llh  retro_p_llh  n_calls  n_iters  \\\n",
       "54        54 -2.435423e+01 -2.981248e+01   -33.349403     3860      196   \n",
       "260      260 -1.400080e+02 -2.717598e+02  -288.033752     5356      282   \n",
       "296      296  1.000000e+10 -3.776003e+01   -41.822254       97        0   \n",
       "305      305 -2.827037e+02 -2.698645e+02  -288.172119     5137      265   \n",
       "318      318 -8.392945e+01  1.000000e+09  -110.495117     3019      160   \n",
       "\n",
       "              x           y           z          time   azimuth    zenith  \\\n",
       "54    81.918444 -168.011801 -373.009579   9403.311885  4.630806  2.337713   \n",
       "260 -106.846230 -175.500782 -369.971921   9286.698561  3.760740  1.136570   \n",
       "296   89.847350  -18.710206 -238.421001  12496.720319  4.697346  0.249999   \n",
       "305   32.021592  -29.743713 -396.006449   9710.709720  1.596842  2.245904   \n",
       "318  120.232529 -134.267749 -205.578426   9280.817559  4.087020  0.793031   \n",
       "\n",
       "     cascade energy  track energy  \n",
       "54        26.858976      0.718241  \n",
       "260      140.987643     49.344229  \n",
       "296       23.159452      6.859718  \n",
       "305        5.056162     18.650123  \n",
       "318       31.100011     47.157038  "
      ]
     },
     "execution_count": 26,
     "metadata": {},
     "output_type": "execute_result"
    }
   ],
   "source": [
    "bad.head()"
   ]
  },
  {
   "cell_type": "code",
   "execution_count": 27,
   "metadata": {},
   "outputs": [],
   "source": [
    "df.to_pickle('./test_out.pkl')"
   ]
  },
  {
   "cell_type": "code",
   "execution_count": 28,
   "metadata": {},
   "outputs": [],
   "source": [
    "# kill all the services\n",
    "import zmq\n",
    "for proc, ctrl_addr in zip(procs, ctrl_addrs): \n",
    "    with zmq.Context.instance().socket(zmq.REQ) as ctrl_sock:\n",
    "        ctrl_sock.connect(ctrl_addr)\n",
    "        ctrl_sock.send_string(\"die\")\n",
    "        proc.join()"
   ]
  }
 ],
 "metadata": {
  "kernelspec": {
   "display_name": "Python 3",
   "language": "python",
   "name": "python3"
  },
  "language_info": {
   "codemirror_mode": {
    "name": "ipython",
    "version": 3
   },
   "file_extension": ".py",
   "mimetype": "text/x-python",
   "name": "python",
   "nbconvert_exporter": "python",
   "pygments_lexer": "ipython3",
   "version": "3.7.3"
  }
 },
 "nbformat": 4,
 "nbformat_minor": 4
}
