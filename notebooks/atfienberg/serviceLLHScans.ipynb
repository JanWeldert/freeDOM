{
 "cells": [
  {
   "cell_type": "markdown",
   "metadata": {},
   "source": [
    "### Use the LLH Client & Service to produce FreeDOM LLH scans\n",
    "\n",
    "Intended to demonstrate the LLH service functionality"
   ]
  },
  {
   "cell_type": "code",
   "execution_count": 1,
   "metadata": {},
   "outputs": [],
   "source": [
    "# run on CPU\n",
    "import os\n",
    "os.environ['CUDA_VISIBLE_DEVICES'] = ''"
   ]
  },
  {
   "cell_type": "code",
   "execution_count": 2,
   "metadata": {},
   "outputs": [],
   "source": [
    "import tensorflow as tf\n",
    "import numpy as np\n",
    "import pickle\n",
    "import json\n",
    "import math\n",
    "from matplotlib import pyplot as plt\n",
    "from freedom.llh_service.llh_service import LLHService\n",
    "from freedom.llh_service.llh_client import LLHClient\n",
    "from multiprocessing import Process"
   ]
  },
  {
   "cell_type": "code",
   "execution_count": 13,
   "metadata": {},
   "outputs": [],
   "source": [
    "with open('../../freedom/resources/test_data/test_events.pkl', 'rb') as f:\n",
    "    event = pickle.load(f)[0]"
   ]
  },
  {
   "cell_type": "markdown",
   "metadata": {},
   "source": [
    "### llh service configuration:"
   ]
  },
  {
   "cell_type": "code",
   "execution_count": 14,
   "metadata": {},
   "outputs": [],
   "source": [
    "service_conf = {\n",
    "        \"req_addr\": \"tcp://127.0.0.1:12345\",\n",
    "        \"ctrl_addr\": \"tcp://127.0.0.1:12346\",\n",
    "        \"poll_timeout\": 10,\n",
    "        \"flush_period\": 10,\n",
    "        \"n_hypo_params\": 8,\n",
    "        \"n_obs_features\": 5,\n",
    "        \"batch_size\" : {\n",
    "          \"n_hypos\": 2500,\n",
    "          \"n_observations\": 40000 \n",
    "        },\n",
    "        \"send_hwm\": 10000,\n",
    "        \"recv_hwm\": 10000,\n",
    "        \"use_freeDOM_model\": True,\n",
    "        \"hitnet_file\": \"../../freedom/resources/models/HitNet_08_May_2020-16h02/epoch_3675_model.hdf5\",\n",
    "        \"chargenet_file\": \"../../freedom/resources/models/ChargeNet_logE_18_May_2020-21h03/epoch_400_model.hdf5\n",
    "}"
   ]
  },
  {
   "cell_type": "code",
   "execution_count": 15,
   "metadata": {},
   "outputs": [
    {
     "name": "stderr",
     "output_type": "stream",
     "text": [
      "Process Process-5:\n",
      "Traceback (most recent call last):\n",
      "  File \"/home/atfienberg/packages/anaconda3/lib/python3.7/multiprocessing/process.py\", line 297, in _bootstrap\n",
      "    self.run()\n",
      "  File \"/home/atfienberg/packages/anaconda3/lib/python3.7/multiprocessing/process.py\", line 99, in run\n",
      "    self._target(*self._args, **self._kwargs)\n",
      "  File \"<ipython-input-15-3a4c064a5c71>\", line 3, in start_service\n",
      "    with LLHService(**params) as serv:\n",
      "  File \"/home/atfienberg/.local/lib/python3.7/site-packages/freedom/llh_service/llh_service.py\", line 127, in __init__\n",
      "    hitnet_file, custom_objects={\"hitnet_trafo\": hitnet_trafo}\n",
      "  File \"/home/atfienberg/packages/anaconda3/lib/python3.7/site-packages/tensorflow_core/python/keras/saving/save.py\", line 146, in load_model\n",
      "    return hdf5_format.load_model_from_hdf5(filepath, custom_objects, compile)\n",
      "  File \"/home/atfienberg/packages/anaconda3/lib/python3.7/site-packages/tensorflow_core/python/keras/saving/hdf5_format.py\", line 168, in load_model_from_hdf5\n",
      "    custom_objects=custom_objects)\n",
      "  File \"/home/atfienberg/packages/anaconda3/lib/python3.7/site-packages/tensorflow_core/python/keras/saving/model_config.py\", line 55, in model_from_config\n",
      "    return deserialize(config, custom_objects=custom_objects)\n",
      "  File \"/home/atfienberg/packages/anaconda3/lib/python3.7/site-packages/tensorflow_core/python/keras/layers/serialization.py\", line 106, in deserialize\n",
      "    printable_module_name='layer')\n",
      "  File \"/home/atfienberg/packages/anaconda3/lib/python3.7/site-packages/tensorflow_core/python/keras/utils/generic_utils.py\", line 303, in deserialize_keras_object\n",
      "    list(custom_objects.items())))\n",
      "  File \"/home/atfienberg/packages/anaconda3/lib/python3.7/site-packages/tensorflow_core/python/keras/engine/network.py\", line 937, in from_config\n",
      "    config, custom_objects)\n",
      "  File \"/home/atfienberg/packages/anaconda3/lib/python3.7/site-packages/tensorflow_core/python/keras/engine/network.py\", line 1903, in reconstruct_from_config\n",
      "    process_node(layer, node_data)\n",
      "  File \"/home/atfienberg/packages/anaconda3/lib/python3.7/site-packages/tensorflow_core/python/keras/engine/network.py\", line 1851, in process_node\n",
      "    output_tensors = layer(input_tensors, **kwargs)\n",
      "  File \"/home/atfienberg/packages/anaconda3/lib/python3.7/site-packages/tensorflow_core/python/keras/engine/base_layer.py\", line 773, in __call__\n",
      "    outputs = call_fn(cast_inputs, *args, **kwargs)\n",
      "  File \"/home/atfienberg/packages/anaconda3/lib/python3.7/site-packages/tensorflow_core/python/autograph/impl/api.py\", line 237, in wrapper\n",
      "    raise e.ag_error_metadata.to_exception(e)\n",
      "ValueError: in converted code:\n",
      "\n",
      "    /home/atfienberg/.local/lib/python3.7/site-packages/freedom/neural_nets/transformations.py:100 call  *\n",
      "        out = tf.stack([\n",
      "    /home/atfienberg/packages/anaconda3/lib/python3.7/site-packages/tensorflow_core/python/ops/array_ops.py:898 _slice_helper\n",
      "        name=name)\n",
      "    /home/atfienberg/packages/anaconda3/lib/python3.7/site-packages/tensorflow_core/python/ops/array_ops.py:1064 strided_slice\n",
      "        shrink_axis_mask=shrink_axis_mask)\n",
      "    /home/atfienberg/packages/anaconda3/lib/python3.7/site-packages/tensorflow_core/python/ops/gen_array_ops.py:9535 strided_slice\n",
      "        shrink_axis_mask=shrink_axis_mask, name=name)\n",
      "    /home/atfienberg/packages/anaconda3/lib/python3.7/site-packages/tensorflow_core/python/framework/op_def_library.py:742 _apply_op_helper\n",
      "        attrs=attr_protos, op_def=op_def)\n",
      "    /home/atfienberg/packages/anaconda3/lib/python3.7/site-packages/tensorflow_core/python/framework/func_graph.py:595 _create_op_internal\n",
      "        compute_device)\n",
      "    /home/atfienberg/packages/anaconda3/lib/python3.7/site-packages/tensorflow_core/python/framework/ops.py:3322 _create_op_internal\n",
      "        op_def=op_def)\n",
      "    /home/atfienberg/packages/anaconda3/lib/python3.7/site-packages/tensorflow_core/python/framework/ops.py:1786 __init__\n",
      "        control_input_ops)\n",
      "    /home/atfienberg/packages/anaconda3/lib/python3.7/site-packages/tensorflow_core/python/framework/ops.py:1622 _create_c_op\n",
      "        raise ValueError(str(e))\n",
      "\n",
      "    ValueError: slice index 5 of dimension 1 out of bounds. for 'hitnet_trafo/strided_slice_17' (op: 'StridedSlice') with input shapes: [?,5], [2], [2], [2] and with computed input tensors: input[1] = <0 5>, input[2] = <0 6>, input[3] = <1 1>.\n",
      "\n"
     ]
    }
   ],
   "source": [
    "# start the service in a separate process\n",
    "def start_service(params):\n",
    "    with LLHService(**params) as serv:\n",
    "        print('starting work loop...')\n",
    "        serv.start_work_loop()\n",
    "        \n",
    "    print('done')\n",
    "\n",
    "proc = Process(target=start_service, args=(service_conf,))\n",
    "proc.start()"
   ]
  },
  {
   "cell_type": "markdown",
   "metadata": {},
   "source": [
    "### Construct the client\n",
    "The client loads its configuration directly from the service. Client construction will block until a connection to the service is established or \"conf_timeout\" milliseconds have elapsed.\n",
    "\n",
    "In this case, it will block until the service has finished initializing."
   ]
  },
  {
   "cell_type": "code",
   "execution_count": null,
   "metadata": {},
   "outputs": [],
   "source": [
    "%%time\n",
    "client = LLHClient(\n",
    "                    ctrl_addr=service_conf[\"ctrl_addr\"],\n",
    "                    conf_timeout=60000\n",
    "                  )"
   ]
  },
  {
   "cell_type": "code",
   "execution_count": null,
   "metadata": {},
   "outputs": [],
   "source": [
    "def colorbar(mappable):\n",
    "    # from https://joseph-long.com/writing/colorbars/\n",
    "    from mpl_toolkits.axes_grid1 import make_axes_locatable\n",
    "    import matplotlib.pyplot as plt\n",
    "    last_axes = plt.gca()\n",
    "    ax = mappable.axes\n",
    "    fig = ax.figure\n",
    "    divider = make_axes_locatable(ax)\n",
    "    cax = divider.append_axes(\"right\", size=\"5%\", pad=0.05)\n",
    "    cbar = fig.colorbar(mappable, cax=cax)\n",
    "    plt.sca(last_axes)\n",
    "    cbar.ax.tick_params(labelsize=12)\n",
    "    return cbar\n",
    "\n",
    "# utility function to map out a 2d NLL slice\n",
    "def map_2d(inds, steps, pulses=event['hits'], base_params=event['params']):\n",
    "    mg = np.meshgrid(*steps)\n",
    "    \n",
    "    n_hypotheses = mg[0].size\n",
    "    \n",
    "    # param table is a table of hypotheses to evaluate\n",
    "    # each row contains a value for each of the 8 hypothesis parameters\n",
    "    param_table = np.repeat(base_params[np.newaxis, :], n_hypotheses, axis=0)\n",
    "\n",
    "    # load hypotheses to evaluate into the param table\n",
    "    for ind, coord in zip(inds, mg):\n",
    "        param_table[:, ind] = coord.flat\n",
    "        \n",
    "    # client.eval_llh is a synchronous (blocking) LLH evaluation\n",
    "    # asynchronous requests are also supported\n",
    "    return client.eval_llh(pulses, param_table).reshape([step.size for step in steps[::-1]])\n",
    "\n",
    "def plot_2d(inds, steps, true_params, ax):\n",
    "    llh_map = map_2d(inds, steps)\n",
    "\n",
    "    delta = llh_map - llh_map.min()\n",
    "    \n",
    "    im = ax.pcolormesh(*steps, delta, cmap='Spectral', \n",
    "                       rasterized=True, linewidth=0)    \n",
    "    colorbar(im)\n",
    "    \n",
    "    mle_y, mle_x = np.unravel_index(np.argmin(llh_map), llh_map.shape)\n",
    "    \n",
    "    # place crosshair at true parameters\n",
    "    ax.axvline(true_params[0])\n",
    "    ax.axhline(true_params[1])\n",
    "    \n",
    "    # white star at MLE point in the 2d scan\n",
    "    ax.plot(*[[step[i]] for step, i in zip(steps, (mle_x, mle_y))], 'w*')"
   ]
  },
  {
   "cell_type": "code",
   "execution_count": null,
   "metadata": {},
   "outputs": [],
   "source": [
    "true_params = event['params']\n",
    "\n",
    "par_names = ['x', 'y', 'z', 'time',\n",
    "             'azimuth', 'zenith', \n",
    "             'cascade energy', 'track energy']\n",
    "\n",
    "par_pairs = [(0, 1), (0, 2), (1, 2), (3, 2),\n",
    "             (4, 5), (4, 2), (4, 0), (6, 7)\n",
    "            ]\n",
    "\n",
    "gridsize=100\n",
    "spacings = [np.linspace(true_params[0]-50, true_params[0]+50, 100),\n",
    "            np.linspace(true_params[1]-50, true_params[1]+50, 100),\n",
    "            np.linspace(true_params[2]-50, true_params[2]+50, 100),\n",
    "            np.linspace(true_params[3]-300, true_params[3]+300, 100),\n",
    "            np.linspace(0, 2*math.pi, 100),\n",
    "            np.linspace(0, math.pi, 100),\n",
    "            np.logspace(-1, 2, 100),\n",
    "            np.logspace(-1, 2, 100)\n",
    "           ]"
   ]
  },
  {
   "cell_type": "code",
   "execution_count": null,
   "metadata": {},
   "outputs": [],
   "source": [
    "%%time\n",
    "fig, axes = plt.subplots(nrows=2, ncols=4, figsize=(16,8))\n",
    "plt.subplots_adjust(wspace=0.5)\n",
    "plt.subplots_adjust(hspace=0.25)\n",
    "\n",
    "axiter = axes.flat\n",
    "for i, ax in enumerate(axiter):\n",
    "    ind0, ind1 = par_pairs[i]\n",
    "    grid_spacing = (spacings[ind0], spacings[ind1])\n",
    "    plot_2d((ind0, ind1), grid_spacing, (true_params[ind0], true_params[ind1]), ax)\n",
    "    ax.set_xlabel(par_names[ind0], fontsize=12)\n",
    "    ax.set_ylabel(par_names[ind1], fontsize=12)\n",
    "    ax.tick_params(labelsize=12)\n",
    "    \n",
    "    if par_names[ind0].endswith('energy'):\n",
    "        ax.set_xscale('log')\n",
    "    if par_names[ind1].endswith('energy'):\n",
    "        ax.set_yscale('log')\n",
    "    \n",
    "fig.suptitle('LLH Service', fontsize=16)\n",
    "fig.savefig('llh_service_maps.pdf', bbox='tight')"
   ]
  },
  {
   "cell_type": "code",
   "execution_count": null,
   "metadata": {},
   "outputs": [],
   "source": [
    "# time it\n",
    "t = %timeit -o output = map_2d((0,1), (spacings[0], spacings[1]))"
   ]
  },
  {
   "cell_type": "code",
   "execution_count": null,
   "metadata": {},
   "outputs": [],
   "source": [
    "print(f'time per eval is {t.average/gridsize**2*1e6:.2f} usec')"
   ]
  },
  {
   "cell_type": "code",
   "execution_count": null,
   "metadata": {},
   "outputs": [],
   "source": [
    "# kill the service\n",
    "import zmq\n",
    "ctrl_sock = zmq.Context.instance().socket(zmq.REQ)\n",
    "ctrl_sock.connect(service_conf[\"ctrl_addr\"])\n",
    "ctrl_sock.send_string(\"die\")\n",
    "proc.join()"
   ]
  }
 ],
 "metadata": {
  "kernelspec": {
   "display_name": "Python 3",
   "language": "python",
   "name": "python3"
  },
  "language_info": {
   "codemirror_mode": {
    "name": "ipython",
    "version": 3
   },
   "file_extension": ".py",
   "mimetype": "text/x-python",
   "name": "python",
   "nbconvert_exporter": "python",
   "pygments_lexer": "ipython3",
   "version": "3.7.3"
  }
 },
 "nbformat": 4,
 "nbformat_minor": 4
}
