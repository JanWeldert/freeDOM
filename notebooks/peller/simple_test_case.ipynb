{
 "cells": [
  {
   "cell_type": "code",
   "execution_count": 1,
   "metadata": {},
   "outputs": [],
   "source": [
    "import os\n",
    "os.environ[\"CUDA_VISIBLE_DEVICES\"]=\"0\"\n",
    "\n",
    "import numpy as np\n",
    "import matplotlib.pyplot as plt\n",
    "\n",
    "from scipy import stats\n",
    "\n",
    "import tensorflow as tf"
   ]
  },
  {
   "cell_type": "code",
   "execution_count": 2,
   "metadata": {},
   "outputs": [],
   "source": [
    "plt.rcParams['figure.figsize'] = [12., 8.]\n",
    "plt.rcParams['xtick.labelsize'] = 14\n",
    "plt.rcParams['ytick.labelsize'] = 14 \n",
    "plt.rcParams['axes.labelsize'] = 16\n",
    "plt.rcParams['axes.titlesize'] = 16\n",
    "plt.rcParams['legend.fontsize'] = 14"
   ]
  },
  {
   "cell_type": "markdown",
   "metadata": {},
   "source": [
    "# Problem\n",
    "\n",
    "Let's assume an isotropic light source sending out a fixed amount of photons $N_{src}$ at time $t_{src}$ at position $x_{src}$ that is located $b=1 m$ off from a line of detectors.\n",
    "The amount of photons expected at each detector is $N_{src}/r^2$ (and the observed $N_i$ drawn according to Poisson) where $r$ is the distance to the detector. The arrival time is distributed to $\\mathcal{N}(\\mu=t_{rsc} + r/c, \\sigma=1)$.\n",
    "\n",
    "The extended Likelihood formulation then gives the likelihood for photons observed per detector:\n",
    "\n",
    "$L_i = \\prod_{hit = 0}^{N_i} \\mathcal{N}(\\mu=t_{rsc} + r_i/c - t_{hit}, \\sigma=1)\\cdot e^{-N_{src}/r_i^2} \\cdot (N_{src}/r_i^2)^{N_i}$\n",
    "\n",
    "The total likelihood is the the product over all detectors.\n",
    "\n",
    "distances are in meters, time in ns (not that it matters anyway)"
   ]
  },
  {
   "cell_type": "code",
   "execution_count": 3,
   "metadata": {},
   "outputs": [],
   "source": [
    "time_dist = lambda t: stats.norm(loc=t, scale=1)\n",
    "c = 0.3 # m/ns"
   ]
  },
  {
   "cell_type": "code",
   "execution_count": 13,
   "metadata": {},
   "outputs": [],
   "source": [
    "# 3 detectors\n",
    "\n",
    "detector_xs = np.linspace(-10,10,3)"
   ]
  },
  {
   "cell_type": "code",
   "execution_count": 14,
   "metadata": {},
   "outputs": [],
   "source": [
    "def generate_event(x_src, t_src=0, N_src=10, b=1):\n",
    "    '''\n",
    "    generates event\n",
    "    \n",
    "    Parameters:\n",
    "    \n",
    "    x_rsc : float\n",
    "        Source position\n",
    "    t_src : float\n",
    "        Source time\n",
    "    N_src : int\n",
    "        Amount of photons sent out\n",
    "    b : float\n",
    "        perpendicaulr distance off of sensor line\n",
    "        \n",
    "    Returns:\n",
    "    \n",
    "    Ns : list\n",
    "        observed number of photons per detector\n",
    "    Ns_sensor_idx : list\n",
    "        according index of sensor\n",
    "    ts : list\n",
    "        observed photon times\n",
    "    ts_sensor_idx : list\n",
    "        according index of sensor\n",
    "    '''\n",
    "    Ns = []\n",
    "    Ns_sensor_idx = []\n",
    "    ts = []\n",
    "    ts_sensor_idx = []\n",
    "    for i, x in enumerate(detector_xs):\n",
    "        r2 = (x_src - x)**2 + b**2\n",
    "        N_exp = N_src/r2\n",
    "        N_obs = stats.poisson(mu=N_exp).rvs()\n",
    "        Ns.append(N_obs)\n",
    "        Ns_sensor_idx.append(i)\n",
    "        if N_obs > 0:\n",
    "            t = time_dist(t_src + np.sqrt(r2)/c).rvs(size=N_obs)\n",
    "            ts.extend(t)\n",
    "            ts_sensor_idx.extend([i]*N_obs)\n",
    "    return Ns, Ns_sensor_idx, ts, ts_sensor_idx"
   ]
  },
  {
   "cell_type": "code",
   "execution_count": 40,
   "metadata": {},
   "outputs": [],
   "source": [
    "events = []\n",
    "for i in range(2):\n",
    "    events.append(generate_event(-5))"
   ]
  },
  {
   "cell_type": "code",
   "execution_count": 41,
   "metadata": {},
   "outputs": [
    {
     "data": {
      "text/plain": [
       "[([0, 2, 1],\n",
       "  [0, 1, 2],\n",
       "  [15.34907884312193, 16.475652350001095, 50.462725461967295],\n",
       "  [1, 1, 2]),\n",
       " ([0, 0, 0], [0, 1, 2], [], [])]"
      ]
     },
     "execution_count": 41,
     "metadata": {},
     "output_type": "execute_result"
    }
   ],
   "source": [
    "events"
   ]
  },
  {
   "cell_type": "code",
   "execution_count": 17,
   "metadata": {},
   "outputs": [
    {
     "data": {
      "text/plain": [
       "array([-10.,   0.,  10.])"
      ]
     },
     "execution_count": 17,
     "metadata": {},
     "output_type": "execute_result"
    }
   ],
   "source": [
    "detector_xs"
   ]
  },
  {
   "cell_type": "code",
   "execution_count": null,
   "metadata": {},
   "outputs": [],
   "source": []
  }
 ],
 "metadata": {
  "kernelspec": {
   "display_name": "Python 3",
   "language": "python",
   "name": "python3"
  },
  "language_info": {
   "codemirror_mode": {
    "name": "ipython",
    "version": 3
   },
   "file_extension": ".py",
   "mimetype": "text/x-python",
   "name": "python",
   "nbconvert_exporter": "python",
   "pygments_lexer": "ipython3",
   "version": "3.7.4"
  }
 },
 "nbformat": 4,
 "nbformat_minor": 4
}
