{
 "cells": [
  {
   "cell_type": "code",
   "execution_count": 1,
   "metadata": {},
   "outputs": [],
   "source": [
    "import numpy as np\n",
    "import tensorflow as tf"
   ]
  },
  {
   "cell_type": "code",
   "execution_count": 15,
   "metadata": {},
   "outputs": [],
   "source": [
    "x = np.arange(20).reshape(10, -1)"
   ]
  },
  {
   "cell_type": "code",
   "execution_count": 16,
   "metadata": {},
   "outputs": [
    {
     "data": {
      "text/plain": [
       "array([[ 0,  1],\n",
       "       [ 2,  3],\n",
       "       [ 4,  5],\n",
       "       [ 6,  7],\n",
       "       [ 8,  9],\n",
       "       [10, 11],\n",
       "       [12, 13],\n",
       "       [14, 15],\n",
       "       [16, 17],\n",
       "       [18, 19]])"
      ]
     },
     "execution_count": 16,
     "metadata": {},
     "output_type": "execute_result"
    }
   ],
   "source": [
    "x"
   ]
  },
  {
   "cell_type": "code",
   "execution_count": 88,
   "metadata": {},
   "outputs": [],
   "source": [
    "theta = np.arange(20).reshape(10, -1)"
   ]
  },
  {
   "cell_type": "code",
   "execution_count": 79,
   "metadata": {},
   "outputs": [],
   "source": [
    "y0 = np.zeros(x.shape[0]).reshape(10, -1)\n",
    "y1 = np.ones(x.shape[0]).reshape(10, -1)"
   ]
  },
  {
   "cell_type": "code",
   "execution_count": 80,
   "metadata": {},
   "outputs": [],
   "source": [
    "dy0 = tf.data.Dataset.from_tensor_slices(y0)\n",
    "dy1 = tf.data.Dataset.from_tensor_slices(y1)"
   ]
  },
  {
   "cell_type": "code",
   "execution_count": 89,
   "metadata": {},
   "outputs": [],
   "source": [
    "dx = tf.data.Dataset.from_tensor_slices(x)\n",
    "dtheta = tf.data.Dataset.from_tensor_slices(theta)"
   ]
  },
  {
   "cell_type": "code",
   "execution_count": 90,
   "metadata": {},
   "outputs": [
    {
     "name": "stdout",
     "output_type": "stream",
     "text": [
      "tf.Tensor([10 11], shape=(2,), dtype=int64)\n",
      "tf.Tensor([16 17], shape=(2,), dtype=int64)\n",
      "tf.Tensor([18 19], shape=(2,), dtype=int64)\n",
      "tf.Tensor([14 15], shape=(2,), dtype=int64)\n",
      "tf.Tensor([4 5], shape=(2,), dtype=int64)\n",
      "tf.Tensor([0 1], shape=(2,), dtype=int64)\n",
      "tf.Tensor([2 3], shape=(2,), dtype=int64)\n",
      "tf.Tensor([12 13], shape=(2,), dtype=int64)\n",
      "tf.Tensor([8 9], shape=(2,), dtype=int64)\n",
      "tf.Tensor([6 7], shape=(2,), dtype=int64)\n"
     ]
    }
   ],
   "source": [
    "for d in dx.shuffle(buffer_size=10):\n",
    "    print(d)"
   ]
  },
  {
   "cell_type": "code",
   "execution_count": 91,
   "metadata": {},
   "outputs": [
    {
     "name": "stdout",
     "output_type": "stream",
     "text": [
      "tf.Tensor(\n",
      "[[0 1]\n",
      " [2 3]\n",
      " [4 5]], shape=(3, 2), dtype=int64)\n",
      "tf.Tensor(\n",
      "[[ 6  7]\n",
      " [ 8  9]\n",
      " [10 11]], shape=(3, 2), dtype=int64)\n",
      "tf.Tensor(\n",
      "[[12 13]\n",
      " [14 15]\n",
      " [16 17]], shape=(3, 2), dtype=int64)\n",
      "tf.Tensor([[18 19]], shape=(1, 2), dtype=int64)\n"
     ]
    }
   ],
   "source": [
    "for d in dx.batch(3):\n",
    "    print(d)"
   ]
  },
  {
   "cell_type": "code",
   "execution_count": 93,
   "metadata": {},
   "outputs": [
    {
     "name": "stdout",
     "output_type": "stream",
     "text": [
      "(<tf.Tensor: id=1366, shape=(2,), dtype=int64, numpy=array([16, 17])>, <tf.Tensor: id=1367, shape=(2,), dtype=int64, numpy=array([18, 19])>)\n",
      "(<tf.Tensor: id=1368, shape=(2,), dtype=int64, numpy=array([12, 13])>, <tf.Tensor: id=1369, shape=(2,), dtype=int64, numpy=array([16, 17])>)\n",
      "(<tf.Tensor: id=1370, shape=(2,), dtype=int64, numpy=array([10, 11])>, <tf.Tensor: id=1371, shape=(2,), dtype=int64, numpy=array([8, 9])>)\n",
      "(<tf.Tensor: id=1372, shape=(2,), dtype=int64, numpy=array([0, 1])>, <tf.Tensor: id=1373, shape=(2,), dtype=int64, numpy=array([2, 3])>)\n",
      "(<tf.Tensor: id=1374, shape=(2,), dtype=int64, numpy=array([6, 7])>, <tf.Tensor: id=1375, shape=(2,), dtype=int64, numpy=array([6, 7])>)\n",
      "(<tf.Tensor: id=1376, shape=(2,), dtype=int64, numpy=array([14, 15])>, <tf.Tensor: id=1377, shape=(2,), dtype=int64, numpy=array([4, 5])>)\n",
      "(<tf.Tensor: id=1378, shape=(2,), dtype=int64, numpy=array([2, 3])>, <tf.Tensor: id=1379, shape=(2,), dtype=int64, numpy=array([0, 1])>)\n",
      "(<tf.Tensor: id=1380, shape=(2,), dtype=int64, numpy=array([8, 9])>, <tf.Tensor: id=1381, shape=(2,), dtype=int64, numpy=array([14, 15])>)\n",
      "(<tf.Tensor: id=1382, shape=(2,), dtype=int64, numpy=array([18, 19])>, <tf.Tensor: id=1383, shape=(2,), dtype=int64, numpy=array([12, 13])>)\n",
      "(<tf.Tensor: id=1384, shape=(2,), dtype=int64, numpy=array([4, 5])>, <tf.Tensor: id=1385, shape=(2,), dtype=int64, numpy=array([10, 11])>)\n"
     ]
    }
   ],
   "source": [
    "for d in tf.data.Dataset.zip((dx, dtheta.shuffle(10))).shuffle(10):\n",
    "    print(d)"
   ]
  },
  {
   "cell_type": "code",
   "execution_count": 169,
   "metadata": {},
   "outputs": [],
   "source": [
    "X = tf.data.Dataset.concatenate(dx, dx)\n",
    "T = tf.data.Dataset.concatenate(dtheta, dtheta.shuffle(10))\n",
    "Y = tf.data.Dataset.concatenate(dy1, dy0)"
   ]
  },
  {
   "cell_type": "code",
   "execution_count": 170,
   "metadata": {},
   "outputs": [],
   "source": [
    "bigD = tf.data.Dataset.zip((X, T, Y))"
   ]
  },
  {
   "cell_type": "code",
   "execution_count": 159,
   "metadata": {},
   "outputs": [
    {
     "name": "stdout",
     "output_type": "stream",
     "text": [
      "[0 1] [14 15] [0.]\n",
      "[10 11] [8 9] [0.]\n",
      "[6 7] [0 1] [0.]\n",
      "[2 3] [2 3] [1.]\n",
      "[14 15] [18 19] [0.]\n",
      "[6 7] [6 7] [1.]\n",
      "[0 1] [0 1] [1.]\n",
      "[4 5] [6 7] [0.]\n",
      "[12 13] [10 11] [0.]\n",
      "[18 19] [2 3] [0.]\n",
      "[10 11] [10 11] [1.]\n",
      "[8 9] [8 9] [1.]\n",
      "[14 15] [14 15] [1.]\n",
      "[8 9] [4 5] [0.]\n",
      "[16 17] [16 17] [1.]\n",
      "[12 13] [12 13] [1.]\n",
      "[4 5] [4 5] [1.]\n",
      "[18 19] [18 19] [1.]\n",
      "[2 3] [16 17] [0.]\n",
      "[16 17] [12 13] [0.]\n"
     ]
    }
   ],
   "source": [
    "for x, t, y in bigD.shuffle(20):\n",
    "    print(x.numpy(), t.numpy(), y.numpy())"
   ]
  },
  {
   "cell_type": "code",
   "execution_count": 171,
   "metadata": {},
   "outputs": [],
   "source": [
    "s = bigD.shuffle(20)"
   ]
  },
  {
   "cell_type": "code",
   "execution_count": 180,
   "metadata": {},
   "outputs": [
    {
     "data": {
      "text/plain": [
       "<ShuffleDataset shapes: ((2,), (2,), (1,)), types: (tf.int64, tf.int64, tf.float64)>"
      ]
     },
     "execution_count": 180,
     "metadata": {},
     "output_type": "execute_result"
    }
   ],
   "source": [
    "s"
   ]
  },
  {
   "cell_type": "code",
   "execution_count": 175,
   "metadata": {},
   "outputs": [
    {
     "name": "stdout",
     "output_type": "stream",
     "text": [
      "(<tf.Tensor: id=5880, shape=(2,), dtype=int64, numpy=array([4, 5])>, <tf.Tensor: id=5881, shape=(2,), dtype=int64, numpy=array([8, 9])>, <tf.Tensor: id=5882, shape=(1,), dtype=float64, numpy=array([0.])>)\n",
      "(<tf.Tensor: id=5883, shape=(2,), dtype=int64, numpy=array([12, 13])>, <tf.Tensor: id=5884, shape=(2,), dtype=int64, numpy=array([18, 19])>, <tf.Tensor: id=5885, shape=(1,), dtype=float64, numpy=array([0.])>)\n",
      "(<tf.Tensor: id=5886, shape=(2,), dtype=int64, numpy=array([8, 9])>, <tf.Tensor: id=5887, shape=(2,), dtype=int64, numpy=array([8, 9])>, <tf.Tensor: id=5888, shape=(1,), dtype=float64, numpy=array([1.])>)\n",
      "(<tf.Tensor: id=5889, shape=(2,), dtype=int64, numpy=array([8, 9])>, <tf.Tensor: id=5890, shape=(2,), dtype=int64, numpy=array([2, 3])>, <tf.Tensor: id=5891, shape=(1,), dtype=float64, numpy=array([0.])>)\n",
      "(<tf.Tensor: id=5892, shape=(2,), dtype=int64, numpy=array([14, 15])>, <tf.Tensor: id=5893, shape=(2,), dtype=int64, numpy=array([6, 7])>, <tf.Tensor: id=5894, shape=(1,), dtype=float64, numpy=array([0.])>)\n",
      "(<tf.Tensor: id=5895, shape=(2,), dtype=int64, numpy=array([0, 1])>, <tf.Tensor: id=5896, shape=(2,), dtype=int64, numpy=array([14, 15])>, <tf.Tensor: id=5897, shape=(1,), dtype=float64, numpy=array([0.])>)\n",
      "(<tf.Tensor: id=5898, shape=(2,), dtype=int64, numpy=array([14, 15])>, <tf.Tensor: id=5899, shape=(2,), dtype=int64, numpy=array([14, 15])>, <tf.Tensor: id=5900, shape=(1,), dtype=float64, numpy=array([1.])>)\n",
      "(<tf.Tensor: id=5901, shape=(2,), dtype=int64, numpy=array([12, 13])>, <tf.Tensor: id=5902, shape=(2,), dtype=int64, numpy=array([12, 13])>, <tf.Tensor: id=5903, shape=(1,), dtype=float64, numpy=array([1.])>)\n",
      "(<tf.Tensor: id=5904, shape=(2,), dtype=int64, numpy=array([6, 7])>, <tf.Tensor: id=5905, shape=(2,), dtype=int64, numpy=array([0, 1])>, <tf.Tensor: id=5906, shape=(1,), dtype=float64, numpy=array([0.])>)\n",
      "(<tf.Tensor: id=5907, shape=(2,), dtype=int64, numpy=array([2, 3])>, <tf.Tensor: id=5908, shape=(2,), dtype=int64, numpy=array([2, 3])>, <tf.Tensor: id=5909, shape=(1,), dtype=float64, numpy=array([1.])>)\n",
      "(<tf.Tensor: id=5910, shape=(2,), dtype=int64, numpy=array([6, 7])>, <tf.Tensor: id=5911, shape=(2,), dtype=int64, numpy=array([6, 7])>, <tf.Tensor: id=5912, shape=(1,), dtype=float64, numpy=array([1.])>)\n",
      "(<tf.Tensor: id=5913, shape=(2,), dtype=int64, numpy=array([16, 17])>, <tf.Tensor: id=5914, shape=(2,), dtype=int64, numpy=array([4, 5])>, <tf.Tensor: id=5915, shape=(1,), dtype=float64, numpy=array([0.])>)\n",
      "(<tf.Tensor: id=5916, shape=(2,), dtype=int64, numpy=array([0, 1])>, <tf.Tensor: id=5917, shape=(2,), dtype=int64, numpy=array([0, 1])>, <tf.Tensor: id=5918, shape=(1,), dtype=float64, numpy=array([1.])>)\n",
      "(<tf.Tensor: id=5919, shape=(2,), dtype=int64, numpy=array([2, 3])>, <tf.Tensor: id=5920, shape=(2,), dtype=int64, numpy=array([16, 17])>, <tf.Tensor: id=5921, shape=(1,), dtype=float64, numpy=array([0.])>)\n",
      "(<tf.Tensor: id=5922, shape=(2,), dtype=int64, numpy=array([18, 19])>, <tf.Tensor: id=5923, shape=(2,), dtype=int64, numpy=array([18, 19])>, <tf.Tensor: id=5924, shape=(1,), dtype=float64, numpy=array([1.])>)\n",
      "(<tf.Tensor: id=5925, shape=(2,), dtype=int64, numpy=array([16, 17])>, <tf.Tensor: id=5926, shape=(2,), dtype=int64, numpy=array([16, 17])>, <tf.Tensor: id=5927, shape=(1,), dtype=float64, numpy=array([1.])>)\n",
      "(<tf.Tensor: id=5928, shape=(2,), dtype=int64, numpy=array([10, 11])>, <tf.Tensor: id=5929, shape=(2,), dtype=int64, numpy=array([12, 13])>, <tf.Tensor: id=5930, shape=(1,), dtype=float64, numpy=array([0.])>)\n",
      "(<tf.Tensor: id=5931, shape=(2,), dtype=int64, numpy=array([10, 11])>, <tf.Tensor: id=5932, shape=(2,), dtype=int64, numpy=array([10, 11])>, <tf.Tensor: id=5933, shape=(1,), dtype=float64, numpy=array([1.])>)\n",
      "(<tf.Tensor: id=5934, shape=(2,), dtype=int64, numpy=array([4, 5])>, <tf.Tensor: id=5935, shape=(2,), dtype=int64, numpy=array([4, 5])>, <tf.Tensor: id=5936, shape=(1,), dtype=float64, numpy=array([1.])>)\n",
      "(<tf.Tensor: id=5937, shape=(2,), dtype=int64, numpy=array([18, 19])>, <tf.Tensor: id=5938, shape=(2,), dtype=int64, numpy=array([10, 11])>, <tf.Tensor: id=5939, shape=(1,), dtype=float64, numpy=array([0.])>)\n"
     ]
    }
   ],
   "source": [
    "for e in s:\n",
    "    print(e)"
   ]
  },
  {
   "cell_type": "code",
   "execution_count": 176,
   "metadata": {},
   "outputs": [
    {
     "data": {
      "text/plain": [
       "<TensorSliceDataset shapes: (1,), types: tf.float64>"
      ]
     },
     "execution_count": 176,
     "metadata": {},
     "output_type": "execute_result"
    }
   ],
   "source": [
    "dy0"
   ]
  },
  {
   "cell_type": "code",
   "execution_count": 177,
   "metadata": {},
   "outputs": [
    {
     "ename": "ValueError",
     "evalue": "Attempt to convert a value (<TensorSliceDataset shapes: (1,), types: tf.float64>) with an unsupported type (<class 'tensorflow.python.data.ops.dataset_ops.TensorSliceDataset'>) to a Tensor.",
     "output_type": "error",
     "traceback": [
      "\u001b[0;31m---------------------------------------------------------------------------\u001b[0m",
      "\u001b[0;31mValueError\u001b[0m                                Traceback (most recent call last)",
      "\u001b[0;32m<ipython-input-177-2f26fff72b4d>\u001b[0m in \u001b[0;36m<module>\u001b[0;34m\u001b[0m\n\u001b[0;32m----> 1\u001b[0;31m \u001b[0mtf\u001b[0m\u001b[0;34m.\u001b[0m\u001b[0mstack\u001b[0m\u001b[0;34m(\u001b[0m\u001b[0;34m[\u001b[0m\u001b[0mdy0\u001b[0m\u001b[0;34m,\u001b[0m \u001b[0mdy1\u001b[0m\u001b[0;34m]\u001b[0m\u001b[0;34m)\u001b[0m\u001b[0;34m\u001b[0m\u001b[0;34m\u001b[0m\u001b[0m\n\u001b[0m",
      "\u001b[0;32m~/.local/lib/python3.7/site-packages/tensorflow_core/python/util/dispatch.py\u001b[0m in \u001b[0;36mwrapper\u001b[0;34m(*args, **kwargs)\u001b[0m\n\u001b[1;32m    178\u001b[0m     \u001b[0;34m\"\"\"Call target, and fall back on dispatchers if there is a TypeError.\"\"\"\u001b[0m\u001b[0;34m\u001b[0m\u001b[0;34m\u001b[0m\u001b[0m\n\u001b[1;32m    179\u001b[0m     \u001b[0;32mtry\u001b[0m\u001b[0;34m:\u001b[0m\u001b[0;34m\u001b[0m\u001b[0;34m\u001b[0m\u001b[0m\n\u001b[0;32m--> 180\u001b[0;31m       \u001b[0;32mreturn\u001b[0m \u001b[0mtarget\u001b[0m\u001b[0;34m(\u001b[0m\u001b[0;34m*\u001b[0m\u001b[0margs\u001b[0m\u001b[0;34m,\u001b[0m \u001b[0;34m**\u001b[0m\u001b[0mkwargs\u001b[0m\u001b[0;34m)\u001b[0m\u001b[0;34m\u001b[0m\u001b[0;34m\u001b[0m\u001b[0m\n\u001b[0m\u001b[1;32m    181\u001b[0m     \u001b[0;32mexcept\u001b[0m \u001b[0;34m(\u001b[0m\u001b[0mTypeError\u001b[0m\u001b[0;34m,\u001b[0m \u001b[0mValueError\u001b[0m\u001b[0;34m)\u001b[0m\u001b[0;34m:\u001b[0m\u001b[0;34m\u001b[0m\u001b[0;34m\u001b[0m\u001b[0m\n\u001b[1;32m    182\u001b[0m       \u001b[0;31m# Note: convert_to_eager_tensor currently raises a ValueError, not a\u001b[0m\u001b[0;34m\u001b[0m\u001b[0;34m\u001b[0m\u001b[0;34m\u001b[0m\u001b[0m\n",
      "\u001b[0;32m~/.local/lib/python3.7/site-packages/tensorflow_core/python/ops/array_ops.py\u001b[0m in \u001b[0;36mstack\u001b[0;34m(values, axis, name)\u001b[0m\n\u001b[1;32m   1156\u001b[0m       \u001b[0;32mpass\u001b[0m  \u001b[0;31m# Input list contains non-constant tensors\u001b[0m\u001b[0;34m\u001b[0m\u001b[0;34m\u001b[0m\u001b[0m\n\u001b[1;32m   1157\u001b[0m \u001b[0;34m\u001b[0m\u001b[0m\n\u001b[0;32m-> 1158\u001b[0;31m   \u001b[0mvalue_shape\u001b[0m \u001b[0;34m=\u001b[0m \u001b[0mops\u001b[0m\u001b[0;34m.\u001b[0m\u001b[0mconvert_to_tensor\u001b[0m\u001b[0;34m(\u001b[0m\u001b[0mvalues\u001b[0m\u001b[0;34m[\u001b[0m\u001b[0;36m0\u001b[0m\u001b[0;34m]\u001b[0m\u001b[0;34m,\u001b[0m \u001b[0mname\u001b[0m\u001b[0;34m=\u001b[0m\u001b[0mname\u001b[0m\u001b[0;34m)\u001b[0m\u001b[0;34m.\u001b[0m\u001b[0m_shape_tuple\u001b[0m\u001b[0;34m(\u001b[0m\u001b[0;34m)\u001b[0m  \u001b[0;31m# pylint: disable=protected-access\u001b[0m\u001b[0;34m\u001b[0m\u001b[0;34m\u001b[0m\u001b[0m\n\u001b[0m\u001b[1;32m   1159\u001b[0m   \u001b[0;32mif\u001b[0m \u001b[0mvalue_shape\u001b[0m \u001b[0;32mis\u001b[0m \u001b[0;32mnot\u001b[0m \u001b[0;32mNone\u001b[0m\u001b[0;34m:\u001b[0m\u001b[0;34m\u001b[0m\u001b[0;34m\u001b[0m\u001b[0m\n\u001b[1;32m   1160\u001b[0m     \u001b[0mexpanded_num_dims\u001b[0m \u001b[0;34m=\u001b[0m \u001b[0mlen\u001b[0m\u001b[0;34m(\u001b[0m\u001b[0mvalue_shape\u001b[0m\u001b[0;34m)\u001b[0m \u001b[0;34m+\u001b[0m \u001b[0;36m1\u001b[0m\u001b[0;34m\u001b[0m\u001b[0;34m\u001b[0m\u001b[0m\n",
      "\u001b[0;32m~/.local/lib/python3.7/site-packages/tensorflow_core/python/framework/ops.py\u001b[0m in \u001b[0;36mconvert_to_tensor\u001b[0;34m(value, dtype, name, preferred_dtype, dtype_hint)\u001b[0m\n\u001b[1;32m   1182\u001b[0m   preferred_dtype = deprecation.deprecated_argument_lookup(\n\u001b[1;32m   1183\u001b[0m       \"dtype_hint\", dtype_hint, \"preferred_dtype\", preferred_dtype)\n\u001b[0;32m-> 1184\u001b[0;31m   \u001b[0;32mreturn\u001b[0m \u001b[0mconvert_to_tensor_v2\u001b[0m\u001b[0;34m(\u001b[0m\u001b[0mvalue\u001b[0m\u001b[0;34m,\u001b[0m \u001b[0mdtype\u001b[0m\u001b[0;34m,\u001b[0m \u001b[0mpreferred_dtype\u001b[0m\u001b[0;34m,\u001b[0m \u001b[0mname\u001b[0m\u001b[0;34m)\u001b[0m\u001b[0;34m\u001b[0m\u001b[0;34m\u001b[0m\u001b[0m\n\u001b[0m\u001b[1;32m   1185\u001b[0m \u001b[0;34m\u001b[0m\u001b[0m\n\u001b[1;32m   1186\u001b[0m \u001b[0;34m\u001b[0m\u001b[0m\n",
      "\u001b[0;32m~/.local/lib/python3.7/site-packages/tensorflow_core/python/framework/ops.py\u001b[0m in \u001b[0;36mconvert_to_tensor_v2\u001b[0;34m(value, dtype, dtype_hint, name)\u001b[0m\n\u001b[1;32m   1240\u001b[0m       \u001b[0mname\u001b[0m\u001b[0;34m=\u001b[0m\u001b[0mname\u001b[0m\u001b[0;34m,\u001b[0m\u001b[0;34m\u001b[0m\u001b[0;34m\u001b[0m\u001b[0m\n\u001b[1;32m   1241\u001b[0m       \u001b[0mpreferred_dtype\u001b[0m\u001b[0;34m=\u001b[0m\u001b[0mdtype_hint\u001b[0m\u001b[0;34m,\u001b[0m\u001b[0;34m\u001b[0m\u001b[0;34m\u001b[0m\u001b[0m\n\u001b[0;32m-> 1242\u001b[0;31m       as_ref=False)\n\u001b[0m\u001b[1;32m   1243\u001b[0m \u001b[0;34m\u001b[0m\u001b[0m\n\u001b[1;32m   1244\u001b[0m \u001b[0;34m\u001b[0m\u001b[0m\n",
      "\u001b[0;32m~/.local/lib/python3.7/site-packages/tensorflow_core/python/framework/ops.py\u001b[0m in \u001b[0;36minternal_convert_to_tensor\u001b[0;34m(value, dtype, name, as_ref, preferred_dtype, ctx, accept_composite_tensors)\u001b[0m\n\u001b[1;32m   1294\u001b[0m \u001b[0;34m\u001b[0m\u001b[0m\n\u001b[1;32m   1295\u001b[0m     \u001b[0;32mif\u001b[0m \u001b[0mret\u001b[0m \u001b[0;32mis\u001b[0m \u001b[0;32mNone\u001b[0m\u001b[0;34m:\u001b[0m\u001b[0;34m\u001b[0m\u001b[0;34m\u001b[0m\u001b[0m\n\u001b[0;32m-> 1296\u001b[0;31m       \u001b[0mret\u001b[0m \u001b[0;34m=\u001b[0m \u001b[0mconversion_func\u001b[0m\u001b[0;34m(\u001b[0m\u001b[0mvalue\u001b[0m\u001b[0;34m,\u001b[0m \u001b[0mdtype\u001b[0m\u001b[0;34m=\u001b[0m\u001b[0mdtype\u001b[0m\u001b[0;34m,\u001b[0m \u001b[0mname\u001b[0m\u001b[0;34m=\u001b[0m\u001b[0mname\u001b[0m\u001b[0;34m,\u001b[0m \u001b[0mas_ref\u001b[0m\u001b[0;34m=\u001b[0m\u001b[0mas_ref\u001b[0m\u001b[0;34m)\u001b[0m\u001b[0;34m\u001b[0m\u001b[0;34m\u001b[0m\u001b[0m\n\u001b[0m\u001b[1;32m   1297\u001b[0m \u001b[0;34m\u001b[0m\u001b[0m\n\u001b[1;32m   1298\u001b[0m     \u001b[0;32mif\u001b[0m \u001b[0mret\u001b[0m \u001b[0;32mis\u001b[0m \u001b[0mNotImplemented\u001b[0m\u001b[0;34m:\u001b[0m\u001b[0;34m\u001b[0m\u001b[0;34m\u001b[0m\u001b[0m\n",
      "\u001b[0;32m~/.local/lib/python3.7/site-packages/tensorflow_core/python/framework/constant_op.py\u001b[0m in \u001b[0;36m_constant_tensor_conversion_function\u001b[0;34m(v, dtype, name, as_ref)\u001b[0m\n\u001b[1;32m    284\u001b[0m                                          as_ref=False):\n\u001b[1;32m    285\u001b[0m   \u001b[0m_\u001b[0m \u001b[0;34m=\u001b[0m \u001b[0mas_ref\u001b[0m\u001b[0;34m\u001b[0m\u001b[0;34m\u001b[0m\u001b[0m\n\u001b[0;32m--> 286\u001b[0;31m   \u001b[0;32mreturn\u001b[0m \u001b[0mconstant\u001b[0m\u001b[0;34m(\u001b[0m\u001b[0mv\u001b[0m\u001b[0;34m,\u001b[0m \u001b[0mdtype\u001b[0m\u001b[0;34m=\u001b[0m\u001b[0mdtype\u001b[0m\u001b[0;34m,\u001b[0m \u001b[0mname\u001b[0m\u001b[0;34m=\u001b[0m\u001b[0mname\u001b[0m\u001b[0;34m)\u001b[0m\u001b[0;34m\u001b[0m\u001b[0;34m\u001b[0m\u001b[0m\n\u001b[0m\u001b[1;32m    287\u001b[0m \u001b[0;34m\u001b[0m\u001b[0m\n\u001b[1;32m    288\u001b[0m \u001b[0;34m\u001b[0m\u001b[0m\n",
      "\u001b[0;32m~/.local/lib/python3.7/site-packages/tensorflow_core/python/framework/constant_op.py\u001b[0m in \u001b[0;36mconstant\u001b[0;34m(value, dtype, shape, name)\u001b[0m\n\u001b[1;32m    225\u001b[0m   \"\"\"\n\u001b[1;32m    226\u001b[0m   return _constant_impl(value, dtype, shape, name, verify_shape=False,\n\u001b[0;32m--> 227\u001b[0;31m                         allow_broadcast=True)\n\u001b[0m\u001b[1;32m    228\u001b[0m \u001b[0;34m\u001b[0m\u001b[0m\n\u001b[1;32m    229\u001b[0m \u001b[0;34m\u001b[0m\u001b[0m\n",
      "\u001b[0;32m~/.local/lib/python3.7/site-packages/tensorflow_core/python/framework/constant_op.py\u001b[0m in \u001b[0;36m_constant_impl\u001b[0;34m(value, dtype, shape, name, verify_shape, allow_broadcast)\u001b[0m\n\u001b[1;32m    233\u001b[0m   \u001b[0mctx\u001b[0m \u001b[0;34m=\u001b[0m \u001b[0mcontext\u001b[0m\u001b[0;34m.\u001b[0m\u001b[0mcontext\u001b[0m\u001b[0;34m(\u001b[0m\u001b[0;34m)\u001b[0m\u001b[0;34m\u001b[0m\u001b[0;34m\u001b[0m\u001b[0m\n\u001b[1;32m    234\u001b[0m   \u001b[0;32mif\u001b[0m \u001b[0mctx\u001b[0m\u001b[0;34m.\u001b[0m\u001b[0mexecuting_eagerly\u001b[0m\u001b[0;34m(\u001b[0m\u001b[0;34m)\u001b[0m\u001b[0;34m:\u001b[0m\u001b[0;34m\u001b[0m\u001b[0;34m\u001b[0m\u001b[0m\n\u001b[0;32m--> 235\u001b[0;31m     \u001b[0mt\u001b[0m \u001b[0;34m=\u001b[0m \u001b[0mconvert_to_eager_tensor\u001b[0m\u001b[0;34m(\u001b[0m\u001b[0mvalue\u001b[0m\u001b[0;34m,\u001b[0m \u001b[0mctx\u001b[0m\u001b[0;34m,\u001b[0m \u001b[0mdtype\u001b[0m\u001b[0;34m)\u001b[0m\u001b[0;34m\u001b[0m\u001b[0;34m\u001b[0m\u001b[0m\n\u001b[0m\u001b[1;32m    236\u001b[0m     \u001b[0;32mif\u001b[0m \u001b[0mshape\u001b[0m \u001b[0;32mis\u001b[0m \u001b[0;32mNone\u001b[0m\u001b[0;34m:\u001b[0m\u001b[0;34m\u001b[0m\u001b[0;34m\u001b[0m\u001b[0m\n\u001b[1;32m    237\u001b[0m       \u001b[0;32mreturn\u001b[0m \u001b[0mt\u001b[0m\u001b[0;34m\u001b[0m\u001b[0;34m\u001b[0m\u001b[0m\n",
      "\u001b[0;32m~/.local/lib/python3.7/site-packages/tensorflow_core/python/framework/constant_op.py\u001b[0m in \u001b[0;36mconvert_to_eager_tensor\u001b[0;34m(value, ctx, dtype)\u001b[0m\n\u001b[1;32m     94\u001b[0m       \u001b[0mdtype\u001b[0m \u001b[0;34m=\u001b[0m \u001b[0mdtypes\u001b[0m\u001b[0;34m.\u001b[0m\u001b[0mas_dtype\u001b[0m\u001b[0;34m(\u001b[0m\u001b[0mdtype\u001b[0m\u001b[0;34m)\u001b[0m\u001b[0;34m.\u001b[0m\u001b[0mas_datatype_enum\u001b[0m\u001b[0;34m\u001b[0m\u001b[0;34m\u001b[0m\u001b[0m\n\u001b[1;32m     95\u001b[0m   \u001b[0mctx\u001b[0m\u001b[0;34m.\u001b[0m\u001b[0mensure_initialized\u001b[0m\u001b[0;34m(\u001b[0m\u001b[0;34m)\u001b[0m\u001b[0;34m\u001b[0m\u001b[0;34m\u001b[0m\u001b[0m\n\u001b[0;32m---> 96\u001b[0;31m   \u001b[0;32mreturn\u001b[0m \u001b[0mops\u001b[0m\u001b[0;34m.\u001b[0m\u001b[0mEagerTensor\u001b[0m\u001b[0;34m(\u001b[0m\u001b[0mvalue\u001b[0m\u001b[0;34m,\u001b[0m \u001b[0mctx\u001b[0m\u001b[0;34m.\u001b[0m\u001b[0mdevice_name\u001b[0m\u001b[0;34m,\u001b[0m \u001b[0mdtype\u001b[0m\u001b[0;34m)\u001b[0m\u001b[0;34m\u001b[0m\u001b[0;34m\u001b[0m\u001b[0m\n\u001b[0m\u001b[1;32m     97\u001b[0m \u001b[0;34m\u001b[0m\u001b[0m\n\u001b[1;32m     98\u001b[0m \u001b[0;34m\u001b[0m\u001b[0m\n",
      "\u001b[0;31mValueError\u001b[0m: Attempt to convert a value (<TensorSliceDataset shapes: (1,), types: tf.float64>) with an unsupported type (<class 'tensorflow.python.data.ops.dataset_ops.TensorSliceDataset'>) to a Tensor."
     ]
    }
   ],
   "source": [
    "tf.stack([dy0, dy1])"
   ]
  },
  {
   "cell_type": "code",
   "execution_count": null,
   "metadata": {},
   "outputs": [],
   "source": []
  }
 ],
 "metadata": {
  "kernelspec": {
   "display_name": "Python 3",
   "language": "python",
   "name": "python3"
  },
  "language_info": {
   "codemirror_mode": {
    "name": "ipython",
    "version": 3
   },
   "file_extension": ".py",
   "mimetype": "text/x-python",
   "name": "python",
   "nbconvert_exporter": "python",
   "pygments_lexer": "ipython3",
   "version": "3.7.4"
  }
 },
 "nbformat": 4,
 "nbformat_minor": 4
}
