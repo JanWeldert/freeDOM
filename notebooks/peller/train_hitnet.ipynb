{
 "cells": [
  {
   "cell_type": "code",
   "execution_count": 1,
   "metadata": {},
   "outputs": [],
   "source": [
    "import os\n",
    "os.environ[\"CUDA_VISIBLE_DEVICES\"]=\"2\"\n",
    "#os.environ[\"CUDA_VISIBLE_DEVICES\"]=\"\"\n",
    "os.environ[\"HDF5_USE_FILE_LOCKING\"] = \"FALSE\"\n",
    "\n",
    "import datetime\n",
    "\n",
    "import numpy as np\n",
    "import matplotlib.pyplot as plt\n",
    "import tensorflow as tf\n",
    "\n",
    "%load_ext autoreload\n",
    "%autoreload 2\n",
    "\n",
    "from freedom.utils.dataset import Data\n",
    "from freedom.utils.callback import Save\n",
    "\n",
    "from freedom.neural_nets.hitnet import get_hitnet"
   ]
  },
  {
   "cell_type": "code",
   "execution_count": 2,
   "metadata": {},
   "outputs": [
    {
     "name": "stdout",
     "output_type": "stream",
     "text": [
      "WARNING:tensorflow:From <ipython-input-2-17bb7203622b>:1: is_gpu_available (from tensorflow.python.framework.test_util) is deprecated and will be removed in a future version.\n",
      "Instructions for updating:\n",
      "Use `tf.config.list_physical_devices('GPU')` instead.\n"
     ]
    },
    {
     "data": {
      "text/plain": [
       "True"
      ]
     },
     "execution_count": 2,
     "metadata": {},
     "output_type": "execute_result"
    }
   ],
   "source": [
    "tf.test.is_gpu_available()"
   ]
  },
  {
   "cell_type": "code",
   "execution_count": 3,
   "metadata": {},
   "outputs": [],
   "source": [
    "data = Data(dirs=['/home/iwsatlas1/peller/work/oscNext/level3_v01.03/140000_i3cols','/home/iwsatlas1/peller/work/oscNext/level3_v01.03/120000_i3cols'])"
   ]
  },
  {
   "cell_type": "code",
   "execution_count": 18,
   "metadata": {},
   "outputs": [
    {
     "name": "stdout",
     "output_type": "stream",
     "text": [
      "Model: \"model_1\"\n",
      "__________________________________________________________________________________________________\n",
      "Layer (type)                    Output Shape         Param #     Connected to                     \n",
      "==================================================================================================\n",
      "input_3 (InputLayer)            [(None, 9)]          0                                            \n",
      "__________________________________________________________________________________________________\n",
      "input_4 (InputLayer)            [(None, 8)]          0                                            \n",
      "__________________________________________________________________________________________________\n",
      "hitnet_trafo_1 (hitnet_trafo)   (None, 17)           0           input_3[0][0]                    \n",
      "__________________________________________________________________________________________________\n",
      "dense_12 (Dense)                (None, 32)           576         hitnet_trafo_1[0][0]             \n",
      "__________________________________________________________________________________________________\n",
      "dense_13 (Dense)                (None, 64)           2112        dense_12[0][0]                   \n",
      "__________________________________________________________________________________________________\n",
      "dropout_8 (Dropout)             (None, 64)           0           dense_13[0][0]                   \n",
      "__________________________________________________________________________________________________\n",
      "dense_14 (Dense)                (None, 128)          8320        dropout_8[0][0]                  \n",
      "__________________________________________________________________________________________________\n",
      "dropout_9 (Dropout)             (None, 128)          0           dense_14[0][0]                   \n",
      "__________________________________________________________________________________________________\n",
      "dense_15 (Dense)                (None, 256)          33024       dropout_9[0][0]                  \n",
      "__________________________________________________________________________________________________\n",
      "dropout_10 (Dropout)            (None, 256)          0           dense_15[0][0]                   \n",
      "__________________________________________________________________________________________________\n",
      "dense_16 (Dense)                (None, 512)          131584      dropout_10[0][0]                 \n",
      "__________________________________________________________________________________________________\n",
      "dropout_11 (Dropout)            (None, 512)          0           dense_16[0][0]                   \n",
      "__________________________________________________________________________________________________\n",
      "dense_17 (Dense)                (None, 1024)         525312      dropout_11[0][0]                 \n",
      "__________________________________________________________________________________________________\n",
      "dropout_12 (Dropout)            (None, 1024)         0           dense_17[0][0]                   \n",
      "__________________________________________________________________________________________________\n",
      "dense_18 (Dense)                (None, 512)          524800      dropout_12[0][0]                 \n",
      "__________________________________________________________________________________________________\n",
      "dropout_13 (Dropout)            (None, 512)          0           dense_18[0][0]                   \n",
      "__________________________________________________________________________________________________\n",
      "dense_19 (Dense)                (None, 256)          131328      dropout_13[0][0]                 \n",
      "__________________________________________________________________________________________________\n",
      "dropout_14 (Dropout)            (None, 256)          0           dense_19[0][0]                   \n",
      "__________________________________________________________________________________________________\n",
      "dense_20 (Dense)                (None, 128)          32896       dropout_14[0][0]                 \n",
      "__________________________________________________________________________________________________\n",
      "dropout_15 (Dropout)            (None, 128)          0           dense_20[0][0]                   \n",
      "__________________________________________________________________________________________________\n",
      "dense_21 (Dense)                (None, 64)           8256        dropout_15[0][0]                 \n",
      "__________________________________________________________________________________________________\n",
      "dense_22 (Dense)                (None, 32)           2080        dense_21[0][0]                   \n",
      "__________________________________________________________________________________________________\n",
      "dense_23 (Dense)                (None, 1)            33          dense_22[0][0]                   \n",
      "==================================================================================================\n",
      "Total params: 1,400,321\n",
      "Trainable params: 1,400,321\n",
      "Non-trainable params: 0\n",
      "__________________________________________________________________________________________________\n"
     ]
    }
   ],
   "source": [
    "hitnet = get_hitnet(data.labels)\n",
    "hitnet.summary()"
   ]
  },
  {
   "cell_type": "code",
   "execution_count": 19,
   "metadata": {},
   "outputs": [],
   "source": [
    "optimizer = tf.keras.optimizers.Adam(0.00001)\n",
    "hitnet.compile(loss='binary_crossentropy', optimizer=optimizer)"
   ]
  },
  {
   "cell_type": "code",
   "execution_count": 20,
   "metadata": {},
   "outputs": [],
   "source": [
    "train_id = 'HitNet_shuffle_batches' + datetime.datetime.now().strftime(\"%d_%b_%Y-%Hh%M\")"
   ]
  },
  {
   "cell_type": "code",
   "execution_count": 7,
   "metadata": {},
   "outputs": [],
   "source": [
    "callbacks = []\n",
    "callbacks.append(Save(save_every=2, path_template='../../resources/models/'+train_id+'/epoch_%i'))\n",
    "callbacks.append(tf.keras.callbacks.TensorBoard(log_dir='../../resources/logs/'+train_id, histogram_freq=1))"
   ]
  },
  {
   "cell_type": "code",
   "execution_count": 8,
   "metadata": {},
   "outputs": [],
   "source": [
    "train_data, test_data = data.get_hitnet_data(train_batch_size=4096,\n",
    "                                             test_batch_size=4096,\n",
    "                                             )"
   ]
  },
  {
   "cell_type": "code",
   "execution_count": 21,
   "metadata": {},
   "outputs": [],
   "source": [
    "d_train_data = train_data.apply(tf.data.experimental.prefetch_to_device(':'.join(tf.config.list_physical_devices(device_type=\"GPU\")[0].name.split(':')[1:])))"
   ]
  },
  {
   "cell_type": "code",
   "execution_count": null,
   "metadata": {},
   "outputs": [
    {
     "name": "stdout",
     "output_type": "stream",
     "text": [
      "Epoch 3/1000\n",
      "33572/33572 - 427s - loss: 0.3340 - val_loss: 0.3105\n",
      "Epoch 4/1000\n",
      "33572/33572 - 428s - loss: 0.3089 - val_loss: 0.2963\n",
      "Epoch 5/1000\n",
      "33572/33572 - 421s - loss: 0.2905 - val_loss: 0.2705\n",
      "Epoch 6/1000\n",
      "33572/33572 - 429s - loss: 0.2676 - val_loss: 0.2494\n",
      "Epoch 7/1000\n",
      "33572/33572 - 425s - loss: 0.2523 - val_loss: 0.2392\n",
      "Epoch 8/1000\n",
      "33572/33572 - 432s - loss: 0.2430 - val_loss: 0.2319\n",
      "Epoch 9/1000\n",
      "33572/33572 - 420s - loss: 0.2363 - val_loss: 0.2261\n",
      "Epoch 10/1000\n",
      "33572/33572 - 437s - loss: 0.2311 - val_loss: 0.2230\n",
      "Epoch 11/1000\n",
      "33572/33572 - 431s - loss: 0.2270 - val_loss: 0.2179\n",
      "Epoch 12/1000\n",
      "33572/33572 - 436s - loss: 0.2236 - val_loss: 0.2169\n",
      "Epoch 13/1000\n",
      "33572/33572 - 435s - loss: 0.2209 - val_loss: 0.2150\n",
      "Epoch 14/1000\n",
      "33572/33572 - 435s - loss: 0.2188 - val_loss: 0.2123\n",
      "Epoch 15/1000\n",
      "33572/33572 - 430s - loss: 0.2169 - val_loss: 0.2109\n",
      "Epoch 16/1000\n",
      "33572/33572 - 428s - loss: 0.2155 - val_loss: 0.2100\n",
      "Epoch 17/1000\n",
      "33572/33572 - 423s - loss: 0.2142 - val_loss: 0.2096\n",
      "Epoch 18/1000\n",
      "33572/33572 - 422s - loss: 0.2131 - val_loss: 0.2083\n",
      "Epoch 19/1000\n",
      "33572/33572 - 424s - loss: 0.2122 - val_loss: 0.2078\n",
      "Epoch 20/1000\n",
      "33572/33572 - 430s - loss: 0.2114 - val_loss: 0.2071\n",
      "Epoch 21/1000\n",
      "33572/33572 - 427s - loss: 0.2108 - val_loss: 0.2058\n",
      "Epoch 22/1000\n",
      "33572/33572 - 426s - loss: 0.2101 - val_loss: 0.2061\n",
      "Epoch 23/1000\n",
      "33572/33572 - 424s - loss: 0.2095 - val_loss: 0.2062\n",
      "Epoch 24/1000\n",
      "33572/33572 - 426s - loss: 0.2090 - val_loss: 0.2055\n",
      "Epoch 25/1000\n",
      "33572/33572 - 426s - loss: 0.2086 - val_loss: 0.2046\n",
      "Epoch 26/1000\n",
      "33572/33572 - 427s - loss: 0.2081 - val_loss: 0.2056\n",
      "Epoch 27/1000\n",
      "33572/33572 - 427s - loss: 0.2078 - val_loss: 0.2040\n",
      "Epoch 28/1000\n",
      "33572/33572 - 425s - loss: 0.2074 - val_loss: 0.2040\n",
      "Epoch 29/1000\n",
      "33572/33572 - 432s - loss: 0.2071 - val_loss: 0.2044\n",
      "Epoch 30/1000\n",
      "33572/33572 - 425s - loss: 0.2067 - val_loss: 0.2034\n",
      "Epoch 31/1000\n",
      "33572/33572 - 432s - loss: 0.2066 - val_loss: 0.2038\n",
      "Epoch 32/1000\n"
     ]
    }
   ],
   "source": [
    "hist = hitnet.fit(d_train_data, epochs=1000, verbose=2, callbacks=callbacks, validation_data=test_data,\n",
    "                  initial_epoch=len(callbacks[0].hist['train_losses']))"
   ]
  },
  {
   "cell_type": "code",
   "execution_count": null,
   "metadata": {},
   "outputs": [],
   "source": [
    "# L7 0.28\n",
    "# L3 0.239\n",
    "# L3 with logE, angle correction, and pulse flags 0.205"
   ]
  },
  {
   "cell_type": "code",
   "execution_count": null,
   "metadata": {},
   "outputs": [],
   "source": []
  }
 ],
 "metadata": {
  "kernelspec": {
   "display_name": "Python 3",
   "language": "python",
   "name": "python3"
  },
  "language_info": {
   "codemirror_mode": {
    "name": "ipython",
    "version": 3
   },
   "file_extension": ".py",
   "mimetype": "text/x-python",
   "name": "python",
   "nbconvert_exporter": "python",
   "pygments_lexer": "ipython3",
   "version": "3.7.4"
  }
 },
 "nbformat": 4,
 "nbformat_minor": 4
}
