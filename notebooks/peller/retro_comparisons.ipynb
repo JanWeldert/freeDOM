{
 "cells": [
  {
   "cell_type": "code",
   "execution_count": 1,
   "metadata": {},
   "outputs": [],
   "source": [
    "import numpy as np\n",
    "from retro_likelihood import retroLLH\n",
    "import pickle\n",
    "import dragoman as dm\n",
    "\n",
    "import matplotlib.pyplot as plt"
   ]
  },
  {
   "cell_type": "code",
   "execution_count": 2,
   "metadata": {},
   "outputs": [],
   "source": [
    "plt.rcParams['figure.figsize'] = [12., 8.]\n",
    "plt.rcParams['xtick.labelsize'] = 14\n",
    "plt.rcParams['ytick.labelsize'] = 14 \n",
    "plt.rcParams['axes.labelsize'] = 16\n",
    "plt.rcParams['axes.titlesize'] = 16\n",
    "plt.rcParams['legend.fontsize'] = 14"
   ]
  },
  {
   "cell_type": "code",
   "execution_count": 3,
   "metadata": {},
   "outputs": [
    {
     "name": "stdout",
     "output_type": "stream",
     "text": [
      "Instantiating and loading DOM tables\n",
      "WARNING: RDE is zero for 51 DOMs, NaN for 37 DOMs and +/-inf for 0 DOMs.\n",
      "These DOMs will be disabled and return 0's for expected photon computations. 5072 DOMs remain.\n",
      "failed to find \"/home/iwsatlas1/peller/work/retro_tables/SpiceLea/tilt_on_anisotropy_on_noazimuth_ic80_dc60_histats/cl140\" (this may inidicate that all existing tables are loaded)\n",
      "\n",
      "  -> 3.575 s\n",
      "\n",
      "dom_tables.shape: (140, 80, 40, 100)\n",
      "dom_table_norms.shape: (140, 80, 100)\n",
      "t_indep_dom_tables.shape: (140, 80, 40, 40, 40)\n",
      "t_indep_dom_table_norms.shape: (140, 80)\n",
      "track_kernel: table_energy_loss\n"
     ]
    }
   ],
   "source": [
    "retro_llh = retroLLH()"
   ]
  },
  {
   "cell_type": "code",
   "execution_count": 4,
   "metadata": {},
   "outputs": [],
   "source": [
    "with open('test_data/test_event.pkl', 'rb') as f:\n",
    "    event = pickle.load(f)"
   ]
  },
  {
   "cell_type": "code",
   "execution_count": 5,
   "metadata": {},
   "outputs": [],
   "source": [
    "N = 10\n",
    "p = dm.GridData(x = np.linspace(event['params'][0] - 50, event['params'][0] + 50, N),\n",
    "                y = np.linspace(event['params'][1] - 50, event['params'][1] + 50, N)\n",
    "               )"
   ]
  },
  {
   "cell_type": "code",
   "execution_count": 7,
   "metadata": {},
   "outputs": [
    {
     "name": "stderr",
     "output_type": "stream",
     "text": [
      "/home/iwsatlas1/peller/retro/retro/tables/pexp_5d.py:1349: NumbaWarning: \u001b[1m\u001b[1m\u001b[1mCannot cache compiled function \"table_lookup\" as it uses outer variables in a closure\u001b[0m\u001b[0m\u001b[0m\n",
      "  tdi_tables=tdi_tables,\n",
      "/home/iwsatlas1/peller/retro/retro/tables/pexp_5d.py:1349: NumbaWarning: \u001b[1m\u001b[1m\u001b[1mCannot cache compiled function \"table_lookup_mean\" as it uses outer variables in a closure\u001b[0m\u001b[0m\u001b[0m\n",
      "  tdi_tables=tdi_tables,\n",
      "/home/iwsatlas1/peller/retro/retro/tables/pexp_5d.py:1349: NumbaWarning: \u001b[1m\u001b[1mCannot cache compiled function \"pexp_\" as it uses outer variables in a closure\u001b[0m\u001b[0m\n",
      "  tdi_tables=tdi_tables,\n",
      "/home/iwsatlas1/peller/retro/retro/tables/pexp_5d.py:1450: NumbaWarning: \u001b[1m\u001b[1mCannot cache compiled function \"pexp_\" as it uses outer variables in a closure\u001b[0m\u001b[0m\n",
      "  tdi_tables=tdi_tables,\n",
      "/home/iwsatlas1/peller/retro/retro/tables/pexp_5d.py:1548: NumbaWarning: \u001b[1m\u001b[1mCannot cache compiled function \"get_optimal_scalefactors\" as it uses outer variables in a closure\u001b[0m\u001b[0m\n",
      "  idx=n+1,\n",
      "/home/iwsatlas1/peller/retro/retro/tables/pexp_5d.py:1265: NumbaWarning: \u001b[1mCannot cache compiled function \"get_llh_\" as it uses outer variables in a closure\u001b[0m\n",
      "  @numba_jit(**DFLT_NUMBA_JIT_KWARGS)\n"
     ]
    }
   ],
   "source": [
    "params = np.repeat(event['params'][np.newaxis, :], N**2, axis=0)\n",
    "\n",
    "params[:, 0] = p.get_array('x', flat=True)\n",
    "params[:, 1] = p.get_array('y', flat=True)\n",
    "\n",
    "llh = retro_llh(event, params)\n",
    "\n",
    "p['llh'] = llh.reshape(p.shape) - np.min(llh)"
   ]
  },
  {
   "cell_type": "code",
   "execution_count": 8,
   "metadata": {},
   "outputs": [
    {
     "data": {
      "image/png": "[encoded data removed]",
      "text/plain": [
       "<Figure size 864x720 with 2 Axes>"
      ]
     },
     "metadata": {
      "needs_background": "light"
     },
     "output_type": "display_data"
    }
   ],
   "source": [
    "fig, ax = plt.subplots(1, 1, figsize = (12,10))\n",
    "\n",
    "np.clip(p['llh'], 0, 150).plot(cmap='Spectral', cbar=True, ax=ax, label=r'$\\Delta$LLH')\n",
    "\n",
    "ax.axvline(event['params'][0])\n",
    "ax.axhline(event['params'][1])\n",
    "\n",
    "plt.savefig('retro_test.png')"
   ]
  },
  {
   "cell_type": "code",
   "execution_count": null,
   "metadata": {},
   "outputs": [],
   "source": []
  },
  {
   "cell_type": "code",
   "execution_count": null,
   "metadata": {},
   "outputs": [],
   "source": []
  },
  {
   "cell_type": "code",
   "execution_count": 13,
   "metadata": {},
   "outputs": [
    {
     "data": {
      "text/plain": [
       "'x'"
      ]
     },
     "execution_count": 13,
     "metadata": {},
     "output_type": "execute_result"
    }
   ],
   "source": [
    "p.grid.axes[0].var"
   ]
  },
  {
   "cell_type": "code",
   "execution_count": null,
   "metadata": {},
   "outputs": [],
   "source": []
  }
 ],
 "metadata": {
  "kernelspec": {
   "display_name": "Python 3",
   "language": "python",
   "name": "python3"
  },
  "language_info": {
   "codemirror_mode": {
    "name": "ipython",
    "version": 3
   },
   "file_extension": ".py",
   "mimetype": "text/x-python",
   "name": "python",
   "nbconvert_exporter": "python",
   "pygments_lexer": "ipython3",
   "version": "3.7.4"
  }
 },
 "nbformat": 4,
 "nbformat_minor": 4
}
