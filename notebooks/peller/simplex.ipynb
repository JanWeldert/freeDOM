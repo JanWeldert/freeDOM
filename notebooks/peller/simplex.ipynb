{
 "cells": [
  {
   "cell_type": "code",
   "execution_count": 1,
   "metadata": {},
   "outputs": [],
   "source": [
    "import os\n",
    "os.environ[\"CUDA_VISIBLE_DEVICES\"]=\"0\"\n",
    "#os.environ[\"CUDA_VISIBLE_DEVICES\"]=\"\"\n",
    "os.environ[\"HDF5_USE_FILE_LOCKING\"] = \"FALSE\"\n",
    "\n",
    "import numpy as np\n",
    "import matplotlib.pyplot as plt\n",
    "\n",
    "%load_ext autoreload\n",
    "%autoreload 2\n",
    "\n",
    "from i3cols_dataloader import load_events\n",
    "\n",
    "\n",
    "from tqdm import tqdm\n",
    "\n",
    "import dragoman as dm\n",
    "\n",
    "from likelihood import LLH\n",
    "\n",
    "%load_ext line_profiler"
   ]
  },
  {
   "cell_type": "code",
   "execution_count": 2,
   "metadata": {},
   "outputs": [],
   "source": [
    "plt.rcParams['figure.figsize'] = [12., 8.]\n",
    "plt.rcParams['xtick.labelsize'] = 14\n",
    "plt.rcParams['ytick.labelsize'] = 14 \n",
    "plt.rcParams['axes.labelsize'] = 16\n",
    "plt.rcParams['axes.titlesize'] = 16\n",
    "plt.rcParams['legend.fontsize'] = 14"
   ]
  },
  {
   "cell_type": "markdown",
   "metadata": {},
   "source": [
    "# Test NNs\n",
    "Using an independent MC file"
   ]
  },
  {
   "cell_type": "code",
   "execution_count": 3,
   "metadata": {},
   "outputs": [],
   "source": [
    "events, labels = load_events(dir='/home/iwsatlas1/peller/work/oscNext/level7_v01.04/140000_i3cols_test',\n",
    "                             recos = {'spefit': 'SPEFit2_DC',\n",
    "                                    'retro' : 'retro_crs_prefit__median__neutrino'})"
   ]
  },
  {
   "cell_type": "code",
   "execution_count": 4,
   "metadata": {},
   "outputs": [
    {
     "data": {
      "text/plain": [
       "{'total_charge': 6.1000004,\n",
       " 'hits': array([[-3.2960e+01,  6.2440e+01, -2.5310e+02,  1.0289e+04,  9.2500e-01,\n",
       "          0.0000e+00,  0.0000e+00,  4.4000e+01,  4.4000e+01],\n",
       "        [-9.6800e+00, -7.9500e+01, -4.1573e+02,  1.0814e+04,  7.7500e-01,\n",
       "          0.0000e+00,  0.0000e+00,  8.4000e+01,  4.7000e+01],\n",
       "        [-1.0970e+01,  6.7200e+00, -2.2008e+02,  1.1105e+04,  8.7500e-01,\n",
       "          0.0000e+00,  0.0000e+00,  8.5000e+01,  1.9000e+01],\n",
       "        [-1.0970e+01,  6.7200e+00, -2.4110e+02,  9.9380e+03,  6.2500e-01,\n",
       "          1.0000e+00,  1.0000e+00,  8.5000e+01,  2.2000e+01],\n",
       "        [-1.0970e+01,  6.7200e+00, -2.4110e+02,  1.0024e+04,  1.1250e+00,\n",
       "          1.0000e+00,  1.0000e+00,  8.5000e+01,  2.2000e+01],\n",
       "        [-1.0970e+01,  6.7200e+00, -2.5512e+02,  9.8820e+03,  5.7500e-01,\n",
       "          1.0000e+00,  1.0000e+00,  8.5000e+01,  2.4000e+01],\n",
       "        [-1.0970e+01,  6.7200e+00, -2.6213e+02,  9.8930e+03,  6.7500e-01,\n",
       "          1.0000e+00,  1.0000e+00,  8.5000e+01,  2.5000e+01],\n",
       "        [-1.0970e+01,  6.7200e+00, -2.9717e+02,  1.0237e+04,  5.2500e-01,\n",
       "          0.0000e+00,  0.0000e+00,  8.5000e+01,  3.0000e+01]],\n",
       "       dtype=float32),\n",
       " 'params': array([-6.3213882e+00, -6.1431103e+00, -2.5828326e+02,  9.8073691e+03,\n",
       "         5.7521915e+00,  1.4933553e+00,  8.7179315e-01,  3.4061954e+00],\n",
       "       dtype=float32),\n",
       " 'spefit': array([-9.7383422e-01, -6.3790858e-01, -2.5919901e+02,  9.8333281e+03,\n",
       "         5.6867280e+00,  1.8714786e+00,  0.0000000e+00,  0.0000000e+00],\n",
       "       dtype=float32),\n",
       " 'retro': array([-1.2178822e+01,  6.2961583e+00, -2.5868289e+02,  9.8150303e+03,\n",
       "         5.7899728e+00,  1.5493734e+00,  2.1707795e+00,  2.9986951e+00],\n",
       "       dtype=float32)}"
      ]
     },
     "execution_count": 4,
     "metadata": {},
     "output_type": "execute_result"
    }
   ],
   "source": [
    "events[0]"
   ]
  },
  {
   "cell_type": "code",
   "execution_count": 5,
   "metadata": {},
   "outputs": [],
   "source": [
    "# import pickle\n",
    "\n",
    "# with open('test_data/test_events.pkl', 'wb') as f:\n",
    "#     pickle.dump(events, f, protocol=pickle.HIGHEST_PROTOCOL)"
   ]
  },
  {
   "cell_type": "code",
   "execution_count": 6,
   "metadata": {},
   "outputs": [],
   "source": [
    "freedom_llh = LLH(hitnet_file='models/HitNet_logE18_May_2020-21h02/epoch_42_model.hdf5',\n",
    "          chargenet_file='models/ChargeNet_logE_18_May_2020-21h03/epoch_400_model.hdf5',\n",
    "          epsilon=1e-7,\n",
    "         )"
   ]
  },
  {
   "cell_type": "code",
   "execution_count": 7,
   "metadata": {},
   "outputs": [],
   "source": [
    "from spherical_opt import spherical_opt"
   ]
  },
  {
   "cell_type": "code",
   "execution_count": 8,
   "metadata": {},
   "outputs": [],
   "source": [
    "event = events[123]"
   ]
  },
  {
   "cell_type": "code",
   "execution_count": 19,
   "metadata": {},
   "outputs": [],
   "source": [
    "N_points = 9\n",
    "\n",
    "initial_points = np.repeat(event['spefit'][np.newaxis, :], N_points, axis=0)"
   ]
  },
  {
   "cell_type": "code",
   "execution_count": 20,
   "metadata": {},
   "outputs": [],
   "source": [
    "noise = np.random.randn(N_points, 8)\n",
    "\n",
    "noise[:, 6:] = (noise[:, 6:] + 10) * 3\n",
    "noise[:, 0:4] *= 50\n",
    "noise[:, 4] *= 3\n",
    "noise[:, 4:6] *= 6\n",
    "noise[:, 4] = noise[:, 4] % 2*np.pi\n",
    "noise[:, 5] = noise[:, 5] % np.pi"
   ]
  },
  {
   "cell_type": "code",
   "execution_count": 21,
   "metadata": {},
   "outputs": [
    {
     "data": {
      "text/plain": [
       "-25.414892"
      ]
     },
     "execution_count": 21,
     "metadata": {},
     "output_type": "execute_result"
    }
   ],
   "source": [
    "freedom_llh(event, event['params'])[0][0]"
   ]
  },
  {
   "cell_type": "code",
   "execution_count": 22,
   "metadata": {},
   "outputs": [],
   "source": [
    "def fun(x):\n",
    "    return freedom_llh(event, x)[0][0]"
   ]
  },
  {
   "cell_type": "code",
   "execution_count": 23,
   "metadata": {},
   "outputs": [],
   "source": [
    "seed = initial_points + noise\n",
    "seed[:, 6:] = np.clip(seed[:, 6:], 0, 1e5)"
   ]
  },
  {
   "cell_type": "code",
   "execution_count": 24,
   "metadata": {},
   "outputs": [],
   "source": [
    "opt = spherical_opt.spherical_opt(fun, method='Nelder-Mead', initial_points=seed, spherical_indices=[(4,5)], meta=True, fstdthresh=0.1)"
   ]
  },
  {
   "cell_type": "code",
   "execution_count": 25,
   "metadata": {},
   "outputs": [
    {
     "data": {
      "text/plain": [
       "array([ 9.8726997e+01, -4.6753323e+01, -4.3313397e+02,  9.7726455e+03,\n",
       "        2.8385775e+00,  1.3605294e+00,  2.5890183e-01,  2.0623093e+00],\n",
       "      dtype=float32)"
      ]
     },
     "execution_count": 25,
     "metadata": {},
     "output_type": "execute_result"
    }
   ],
   "source": [
    "event['retro']"
   ]
  },
  {
   "cell_type": "code",
   "execution_count": 26,
   "metadata": {},
   "outputs": [
    {
     "name": "stdout",
     "output_type": "stream",
     "text": [
      "x                   80.09\t42.4\t98.7\t261.1\n",
      "y                   -45.76\t-53.2\t-46.8\t-101.2\n",
      "z                   -429.46\t-383.4\t-433.1\t-472.1\n",
      "time                9729.45\t9107.9\t9772.6\t9293.5\n",
      "azimuth             2.74\t4.5\t2.8\t6.1\n",
      "zenith              1.29\t0.8\t1.4\t1.9\n",
      "cascade_energy      0.59\t0.0\t0.3\t25.9\n",
      "track_energy        2.30\t0.0\t2.1\t23.2\n"
     ]
    }
   ],
   "source": [
    "for l,t,s,r,f in zip(labels, event['params'], event['spefit'], event['retro'], opt['x']):\n",
    "    print(f'{l.ljust(20)}{t:.2f}\\t{s:.1f}\\t{r:.1f}\\t{f:.1f}')"
   ]
  },
  {
   "cell_type": "code",
   "execution_count": 27,
   "metadata": {},
   "outputs": [
    {
     "data": {
      "text/plain": [
       "{'stopping_flag': 1,\n",
       " 'n_calls': 133,\n",
       " 'nit': 81,\n",
       " 'method': 'Nelder-Mead',\n",
       " 'fun': -16.16634750366211,\n",
       " 'x': array([ 2.61127844e+02, -1.01201118e+02, -4.72144664e+02,  9.29353907e+03,\n",
       "         6.06000471e+00,  1.87869430e+00,  2.59363168e+01,  2.32178617e+01]),\n",
       " 'final_simplex': [array([[ 2.60518364e+02, -9.35321247e+01, -4.61134263e+02,\n",
       "           9.28319501e+03,  6.07270956e+00,  1.69551587e+00,\n",
       "           2.58321982e+01,  2.36877705e+01],\n",
       "         [ 2.64022813e+02, -9.59061280e+01, -4.65322893e+02,\n",
       "           9.29236483e+03,  6.01862240e+00,  1.85070825e+00,\n",
       "           2.54866117e+01,  2.34714291e+01],\n",
       "         [ 2.58402964e+02, -1.03989340e+02, -4.65325800e+02,\n",
       "           9.27999996e+03,  5.99525833e+00,  1.75027704e+00,\n",
       "           2.62813575e+01,  2.36571814e+01],\n",
       "         [ 2.61127844e+02, -1.01201118e+02, -4.72144664e+02,\n",
       "           9.29353907e+03,  6.06000471e+00,  1.87869430e+00,\n",
       "           2.59363168e+01,  2.32178617e+01],\n",
       "         [ 2.59000370e+02, -1.03989283e+02, -4.71034547e+02,\n",
       "           9.29361593e+03,  6.05584002e+00,  1.81645322e+00,\n",
       "           2.53709718e+01,  2.29270531e+01],\n",
       "         [ 2.66878732e+02, -9.99772793e+01, -4.56689349e+02,\n",
       "           9.29171535e+03,  6.06064463e+00,  1.69990766e+00,\n",
       "           2.40215110e+01,  2.45918115e+01],\n",
       "         [ 2.62637553e+02, -9.23181123e+01, -4.65257593e+02,\n",
       "           9.29079122e+03,  6.02062893e+00,  1.81886578e+00,\n",
       "           2.58067866e+01,  2.32655179e+01],\n",
       "         [ 2.61846011e+02, -9.82799226e+01, -4.62104713e+02,\n",
       "           9.28590517e+03,  6.10545063e+00,  1.74726725e+00,\n",
       "           2.57012482e+01,  2.37933677e+01],\n",
       "         [ 2.60998889e+02, -9.35831819e+01, -4.63661688e+02,\n",
       "           9.28841238e+03,  6.06075096e+00,  1.77687275e+00,\n",
       "           2.56369936e+01,  2.36904840e+01]]),\n",
       "  array([-15.88613033, -15.9908514 , -16.01128006, -16.1663475 ,\n",
       "         -16.06830215, -15.86487579, -16.08753204, -15.95847034,\n",
       "         -15.98739243])],\n",
       " 'success': True,\n",
       " 'meta': {'no_improvement_counter': 5,\n",
       "  'fstd': 0.09022695686030795,\n",
       "  'cstd': array([2, 4, 4, 4, 0, 0]),\n",
       "  'sstd': array([0])}}"
      ]
     },
     "execution_count": 27,
     "metadata": {},
     "output_type": "execute_result"
    }
   ],
   "source": [
    "opt"
   ]
  },
  {
   "cell_type": "code",
   "execution_count": null,
   "metadata": {},
   "outputs": [],
   "source": []
  }
 ],
 "metadata": {
  "kernelspec": {
   "display_name": "Python 3",
   "language": "python",
   "name": "python3"
  },
  "language_info": {
   "codemirror_mode": {
    "name": "ipython",
    "version": 3
   },
   "file_extension": ".py",
   "mimetype": "text/x-python",
   "name": "python",
   "nbconvert_exporter": "python",
   "pygments_lexer": "ipython3",
   "version": "3.7.4"
  }
 },
 "nbformat": 4,
 "nbformat_minor": 4
}
