{
 "cells": [
  {
   "cell_type": "code",
   "execution_count": 1,
   "metadata": {},
   "outputs": [],
   "source": [
    "import tensorflow as tf\n",
    "import numpy as np\n",
    "import os\n",
    "\n",
    "from freedom.utils.dataset import Data, DataGenerator\n",
    "from freedom.utils.i3cols_dataloader import load_charges\n",
    "from freedom.neural_nets.chargenet import get_chargenet"
   ]
  },
  {
   "cell_type": "code",
   "execution_count": 5,
   "metadata": {},
   "outputs": [],
   "source": [
    "labels = ['x', 'y', 'z', 'time', 'azimuth','zenith', 'cascade_energy', 'track_energy']\n",
    "\n",
    "chargenet = get_chargenet(labels)\n",
    "optimizer = tf.keras.optimizers.Adam(1e-4)\n",
    "chargenet.compile(loss='binary_crossentropy', optimizer=optimizer, metrics=['accuracy'])"
   ]
  },
  {
   "cell_type": "markdown",
   "metadata": {},
   "source": [
    "### DataGenerator"
   ]
  },
  {
   "cell_type": "code",
   "execution_count": 3,
   "metadata": {},
   "outputs": [],
   "source": [
    "train_d = ['/localscratch/weldert/120000_i3cols_train/'] #, '/localscratch/weldert/140000_i3cols_train/'\n",
    "valid_d = ['/localscratch/weldert/120000_i3cols_valid/'] #, '/localscratch/weldert/140000_i3cols_valid/'\n",
    "\n",
    "training_generator = DataGenerator(load_charges, train_d, labels, batch_size=2048)\n",
    "validation_generator = DataGenerator(load_charges, valid_d, labels, batch_size=2048)"
   ]
  },
  {
   "cell_type": "code",
   "execution_count": 4,
   "metadata": {},
   "outputs": [
    {
     "name": "stdout",
     "output_type": "stream",
     "text": [
      "Epoch 1/5\n",
      "767/767 [==============================] - 19s 25ms/step - loss: 0.6891 - accuracy: 0.5410 - val_loss: 0.6728 - val_accuracy: 0.5762\n",
      "Epoch 2/5\n",
      "767/767 [==============================] - 19s 25ms/step - loss: 0.6239 - accuracy: 0.6485 - val_loss: 0.5588 - val_accuracy: 0.7124\n",
      "Epoch 3/5\n",
      "767/767 [==============================] - 19s 25ms/step - loss: 0.5682 - accuracy: 0.6981 - val_loss: 0.5283 - val_accuracy: 0.7312\n",
      "Epoch 4/5\n",
      "767/767 [==============================] - 19s 25ms/step - loss: 0.5462 - accuracy: 0.7142 - val_loss: 0.5227 - val_accuracy: 0.7321\n",
      "Epoch 5/5\n",
      "767/767 [==============================] - 19s 25ms/step - loss: 0.5328 - accuracy: 0.7235 - val_loss: 0.5034 - val_accuracy: 0.7465\n"
     ]
    }
   ],
   "source": [
    "hist = chargenet.fit(training_generator, validation_data=validation_generator, epochs=5, verbose=1)"
   ]
  },
  {
   "cell_type": "markdown",
   "metadata": {},
   "source": [
    "### DataSet"
   ]
  },
  {
   "cell_type": "code",
   "execution_count": 6,
   "metadata": {},
   "outputs": [],
   "source": [
    "data = Data(dirs=['/localscratch/weldert/120000_i3cols_train']) #, '/localscratch/weldert/140000_i3cols_train'\n",
    "\n",
    "train_data, test_data = data.get_chargenet_data(train_batch_size=2048, test_batch_size=2048)"
   ]
  },
  {
   "cell_type": "code",
   "execution_count": 8,
   "metadata": {},
   "outputs": [
    {
     "name": "stdout",
     "output_type": "stream",
     "text": [
      "Epoch 1/5\n",
      "760/760 [==============================] - 23s 30ms/step - loss: 0.6952 - accuracy: 0.5114 - val_loss: 0.6916 - val_accuracy: 0.5165\n",
      "Epoch 2/5\n",
      "760/760 [==============================] - 23s 30ms/step - loss: 0.6723 - accuracy: 0.5718 - val_loss: 0.5958 - val_accuracy: 0.6828\n",
      "Epoch 3/5\n",
      "760/760 [==============================] - 22s 30ms/step - loss: 0.5844 - accuracy: 0.6853 - val_loss: 0.5329 - val_accuracy: 0.7256\n",
      "Epoch 4/5\n",
      "760/760 [==============================] - 22s 29ms/step - loss: 0.5530 - accuracy: 0.7089 - val_loss: 0.5156 - val_accuracy: 0.7415\n",
      "Epoch 5/5\n",
      "760/760 [==============================] - 22s 29ms/step - loss: 0.5378 - accuracy: 0.7188 - val_loss: 0.5094 - val_accuracy: 0.7434\n"
     ]
    }
   ],
   "source": [
    "hist = chargenet.fit(train_data, validation_data=test_data, epochs=5, verbose=1)"
   ]
  },
  {
   "cell_type": "code",
   "execution_count": null,
   "metadata": {},
   "outputs": [],
   "source": []
  }
 ],
 "metadata": {
  "kernelspec": {
   "display_name": "Python 3",
   "language": "python",
   "name": "python3"
  },
  "language_info": {
   "codemirror_mode": {
    "name": "ipython",
    "version": 3
   },
   "file_extension": ".py",
   "mimetype": "text/x-python",
   "name": "python",
   "nbconvert_exporter": "python",
   "pygments_lexer": "ipython3",
   "version": "3.8.2"
  }
 },
 "nbformat": 4,
 "nbformat_minor": 4
}
