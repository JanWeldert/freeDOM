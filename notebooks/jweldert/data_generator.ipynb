{
 "cells": [
  {
   "cell_type": "code",
   "execution_count": null,
   "metadata": {},
   "outputs": [],
   "source": [
    "import numpy as np\n",
    "import tensorflow as tf\n",
    "from freedom.utils.i3cols_dataloader import load_charges\n",
    "import os\n",
    "\n",
    "from freedom.neural_nets.transformations import chargenet_trafo"
   ]
  },
  {
   "cell_type": "code",
   "execution_count": null,
   "metadata": {},
   "outputs": [],
   "source": [
    "def unison_shuffled_copies(a, b, c):\n",
    "    assert len(a) == len(b) == len(c)\n",
    "    p = np.random.permutation(len(a))\n",
    "    return a[p], b[p], c[p]"
   ]
  },
  {
   "cell_type": "code",
   "execution_count": null,
   "metadata": {},
   "outputs": [],
   "source": [
    "class DataGenerator(tf.keras.utils.Sequence):\n",
    "    'Generates data for Keras'\n",
    "    def __init__(self, func, dirs, labels, batch_size=4096):\n",
    "        'Initialization'\n",
    "        self.batch_size = batch_size\n",
    "        for i, dir in enumerate(dirs):\n",
    "            data, params, self.labels = func(dir=dir, labels=labels)\n",
    "            if i == 0:\n",
    "                self.data = data\n",
    "                self.params = params\n",
    "            else:\n",
    "                self.data = np.append(self.data, data, axis=0)\n",
    "                self.params = np.append(self.params, params, axis=0)\n",
    "        \n",
    "        self.on_epoch_end()\n",
    "\n",
    "    def __len__(self):\n",
    "        'Denotes the number of batches per epoch'\n",
    "        return int(np.floor(len(self.data) / self.batch_size))\n",
    "\n",
    "    def __getitem__(self, index):\n",
    "        'Generate one batch of data'\n",
    "        # Generate indexes of the batch\n",
    "        indexes = self.indexes[index*self.batch_size:(index+1)*self.batch_size]\n",
    "\n",
    "        # Generate data\n",
    "        X, y = self.__data_generation(indexes)\n",
    "\n",
    "        return X, y\n",
    "\n",
    "    def on_epoch_end(self):\n",
    "        'Updates indexes after each epoch'\n",
    "        self.indexes = np.arange(len(self.data))\n",
    "        np.random.shuffle(self.indexes)\n",
    "\n",
    "    def __data_generation(self, indexes_temp):\n",
    "        'Generates data containing batch_size samples'\n",
    "        # Generate data\n",
    "        x = np.take(self.data, indexes_temp, axis=0)\n",
    "        p = np.take(self.params, indexes_temp, axis=0)\n",
    "\n",
    "        d_true_labels = np.ones((self.batch_size, 1), dtype=x.dtype)\n",
    "        d_false_labels = np.zeros((self.batch_size, 1), dtype=x.dtype)\n",
    "        d_labels = np.append(d_true_labels, d_false_labels)\n",
    "\n",
    "        d_X = np.append(x, x, axis=0)\n",
    "        d_P = np.append(p, np.random.permutation(p), axis=0)\n",
    "        \n",
    "        d_X, d_P, d_labels = unison_shuffled_copies(d_X, d_P, d_labels)\n",
    "\n",
    "        return [d_X, d_P], d_labels"
   ]
  },
  {
   "cell_type": "code",
   "execution_count": null,
   "metadata": {},
   "outputs": [],
   "source": [
    "labels = ['x', 'y', 'z', 'time', 'azimuth','zenith', 'cascade_energy', 'track_energy']\n",
    "train_d = ['/localscratch/weldert/120000_i3cols_train/'] #, '/localscratch/weldert/140000_i3cols_train/'\n",
    "valid_d = ['/localscratch/weldert/120000_i3cols_valid/'] #, '/localscratch/weldert/140000_i3cols_valid/'\n",
    "\n",
    "training_generator = DataGenerator(load_charges, train_d, labels, batch_size=2048)\n",
    "validation_generator = DataGenerator(load_charges, valid_d, labels, batch_size=2048)"
   ]
  },
  {
   "cell_type": "code",
   "execution_count": null,
   "metadata": {},
   "outputs": [],
   "source": [
    "charge_input = tf.keras.Input(shape=(2,))\n",
    "params_input = tf.keras.Input(shape=(len(labels),))\n",
    "\n",
    "t = chargenet_trafo(labels=labels)\n",
    "\n",
    "h = t(charge_input, params_input)\n",
    "h = tf.keras.layers.Dense(32, activation=\"relu\")(h)\n",
    "h = tf.keras.layers.Dropout(0.001)(h)\n",
    "h = tf.keras.layers.Dense(64, activation=\"relu\")(h)\n",
    "h = tf.keras.layers.Dropout(0.001)(h)\n",
    "h = tf.keras.layers.Dense(128, activation=\"relu\")(h)\n",
    "h = tf.keras.layers.Dropout(0.001)(h)\n",
    "h = tf.keras.layers.Dense(256, activation=\"relu\")(h)\n",
    "h = tf.keras.layers.Dropout(0.001)(h)\n",
    "h = tf.keras.layers.Dense(512, activation=\"relu\")(h)\n",
    "h = tf.keras.layers.Dropout(0.001)(h)\n",
    "h = tf.keras.layers.Dense(256, activation=\"relu\")(h)\n",
    "h = tf.keras.layers.Dropout(0.001)(h)\n",
    "h = tf.keras.layers.Dense(128, activation=\"relu\")(h)\n",
    "h = tf.keras.layers.Dropout(0.001)(h)\n",
    "h = tf.keras.layers.Dense(64, activation=\"relu\")(h)\n",
    "h = tf.keras.layers.Dropout(0.001)(h)\n",
    "h = tf.keras.layers.Dense(32, activation=\"relu\")(h)\n",
    "h = tf.keras.layers.Dropout(0.001)(h)\n",
    "outputs = tf.keras.layers.Dense(1, activation='sigmoid')(h)\n",
    "\n",
    "chargenet = tf.keras.Model(inputs=[charge_input, params_input], outputs=outputs)"
   ]
  },
  {
   "cell_type": "code",
   "execution_count": null,
   "metadata": {},
   "outputs": [],
   "source": [
    "optimizer = tf.keras.optimizers.Adam(1e-4)\n",
    "chargenet.compile(loss='binary_crossentropy', optimizer=optimizer, metrics=['accuracy'])"
   ]
  },
  {
   "cell_type": "code",
   "execution_count": null,
   "metadata": {},
   "outputs": [],
   "source": [
    "hist = chargenet.fit(training_generator, validation_data=validation_generator, epochs=5, verbose=1)"
   ]
  },
  {
   "cell_type": "code",
   "execution_count": null,
   "metadata": {},
   "outputs": [],
   "source": []
  }
 ],
 "metadata": {
  "kernelspec": {
   "display_name": "Python 3",
   "language": "python",
   "name": "python3"
  },
  "language_info": {
   "codemirror_mode": {
    "name": "ipython",
    "version": 3
   },
   "file_extension": ".py",
   "mimetype": "text/x-python",
   "name": "python",
   "nbconvert_exporter": "python",
   "pygments_lexer": "ipython3",
   "version": "3.8.2"
  }
 },
 "nbformat": 4,
 "nbformat_minor": 4
}
