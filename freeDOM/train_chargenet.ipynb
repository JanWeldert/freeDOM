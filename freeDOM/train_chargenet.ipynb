{
 "cells": [
  {
   "cell_type": "code",
   "execution_count": 2,
   "metadata": {},
   "outputs": [
    {
     "name": "stdout",
     "output_type": "stream",
     "text": [
      "The autoreload extension is already loaded. To reload it, use:\n",
      "  %reload_ext autoreload\n"
     ]
    }
   ],
   "source": [
    "import os\n",
    "os.environ[\"CUDA_VISIBLE_DEVICES\"]=\"3\"\n",
    "#os.environ[\"CUDA_VISIBLE_DEVICES\"]=\"\"\n",
    "os.environ[\"HDF5_USE_FILE_LOCKING\"] = \"FALSE\"\n",
    "\n",
    "import datetime\n",
    "\n",
    "import numpy as np\n",
    "import matplotlib.pyplot as plt\n",
    "import tensorflow as tf\n",
    "\n",
    "%load_ext autoreload\n",
    "%autoreload 2\n",
    "\n",
    "from dataset import Data\n",
    "from callback import Save\n",
    "\n",
    "from transformations import chargenet_trafo"
   ]
  },
  {
   "cell_type": "code",
   "execution_count": 3,
   "metadata": {},
   "outputs": [],
   "source": [
    "data = Data()"
   ]
  },
  {
   "cell_type": "code",
   "execution_count": 4,
   "metadata": {},
   "outputs": [
    {
     "name": "stdout",
     "output_type": "stream",
     "text": [
      "Model: \"model\"\n",
      "__________________________________________________________________________________________________\n",
      "Layer (type)                    Output Shape         Param #     Connected to                     \n",
      "==================================================================================================\n",
      "input_1 (InputLayer)            [(None, 1)]          0                                            \n",
      "__________________________________________________________________________________________________\n",
      "input_2 (InputLayer)            [(None, 8)]          0                                            \n",
      "__________________________________________________________________________________________________\n",
      "chargenet_trafo (chargenet_traf (None, 9)            0           input_1[0][0]                    \n",
      "__________________________________________________________________________________________________\n",
      "dense (Dense)                   (None, 32)           320         chargenet_trafo[0][0]            \n",
      "__________________________________________________________________________________________________\n",
      "dense_1 (Dense)                 (None, 64)           2112        dense[0][0]                      \n",
      "__________________________________________________________________________________________________\n",
      "dropout (Dropout)               (None, 64)           0           dense_1[0][0]                    \n",
      "__________________________________________________________________________________________________\n",
      "dense_2 (Dense)                 (None, 128)          8320        dropout[0][0]                    \n",
      "__________________________________________________________________________________________________\n",
      "dropout_1 (Dropout)             (None, 128)          0           dense_2[0][0]                    \n",
      "__________________________________________________________________________________________________\n",
      "dense_3 (Dense)                 (None, 256)          33024       dropout_1[0][0]                  \n",
      "__________________________________________________________________________________________________\n",
      "dropout_2 (Dropout)             (None, 256)          0           dense_3[0][0]                    \n",
      "__________________________________________________________________________________________________\n",
      "dense_4 (Dense)                 (None, 128)          32896       dropout_2[0][0]                  \n",
      "__________________________________________________________________________________________________\n",
      "dropout_3 (Dropout)             (None, 128)          0           dense_4[0][0]                    \n",
      "__________________________________________________________________________________________________\n",
      "dense_5 (Dense)                 (None, 64)           8256        dropout_3[0][0]                  \n",
      "__________________________________________________________________________________________________\n",
      "dense_6 (Dense)                 (None, 32)           2080        dense_5[0][0]                    \n",
      "__________________________________________________________________________________________________\n",
      "dense_7 (Dense)                 (None, 1)            33          dense_6[0][0]                    \n",
      "==================================================================================================\n",
      "Total params: 87,041\n",
      "Trainable params: 87,041\n",
      "Non-trainable params: 0\n",
      "__________________________________________________________________________________________________\n"
     ]
    }
   ],
   "source": [
    "charge_input = tf.keras.Input(shape=(1,))\n",
    "params_input = tf.keras.Input(shape=(len(data.labels),))\n",
    "t = chargenet_trafo(labels=data.labels)\n",
    "\n",
    "h = t(charge_input, params_input)\n",
    "h = tf.keras.layers.Dense(32, activation=\"relu\")(h)\n",
    "h = tf.keras.layers.Dense(64, activation=\"relu\")(h)\n",
    "h = tf.keras.layers.Dropout(0.001)(h)\n",
    "h = tf.keras.layers.Dense(128, activation=\"relu\")(h)\n",
    "h = tf.keras.layers.Dropout(0.001)(h)\n",
    "h = tf.keras.layers.Dense(256, activation=\"relu\")(h)\n",
    "h = tf.keras.layers.Dropout(0.001)(h)\n",
    "h = tf.keras.layers.Dense(128, activation=\"relu\")(h)\n",
    "h = tf.keras.layers.Dropout(0.001)(h)\n",
    "h = tf.keras.layers.Dense(64, activation=\"relu\")(h)\n",
    "h = tf.keras.layers.Dense(32, activation=\"relu\")(h)\n",
    "outputs = tf.keras.layers.Dense(1, activation='sigmoid')(h)\n",
    "\n",
    "charge_net = tf.keras.Model(inputs=[charge_input, params_input], outputs=outputs)\n",
    "charge_net.summary()"
   ]
  },
  {
   "cell_type": "code",
   "execution_count": 5,
   "metadata": {},
   "outputs": [],
   "source": [
    "optimizer = tf.keras.optimizers.Adam(0.00001)\n",
    "charge_net.compile(loss='binary_crossentropy', optimizer=optimizer)"
   ]
  },
  {
   "cell_type": "code",
   "execution_count": 6,
   "metadata": {},
   "outputs": [],
   "source": [
    "train_id = 'ChargeNet_' + datetime.datetime.now().strftime(\"%d_%b_%Y-%Hh%M\")"
   ]
  },
  {
   "cell_type": "code",
   "execution_count": 7,
   "metadata": {},
   "outputs": [],
   "source": [
    "callbacks = []\n",
    "callbacks.append(Save(save_every=25, path_template='models/'+train_id+'/epoch_%i'))\n",
    "callbacks.append(tf.keras.callbacks.TensorBoard(log_dir='logs/'+train_id, histogram_freq=1))"
   ]
  },
  {
   "cell_type": "code",
   "execution_count": 9,
   "metadata": {},
   "outputs": [],
   "source": [
    "train_data, test_data = data.get_chargenet_data(train_batch_size=128,\n",
    "                                             test_batch_size=128,\n",
    "                                            )"
   ]
  },
  {
   "cell_type": "code",
   "execution_count": null,
   "metadata": {},
   "outputs": [
    {
     "name": "stdout",
     "output_type": "stream",
     "text": [
      "Epoch 1/10000\n",
      "WARNING:tensorflow:Method (on_train_batch_end) is slow compared to the batch update (0.218013). Check your callbacks.\n",
      "6651/6651 - 23s - loss: 0.6901 - val_loss: 0.0000e+00\n",
      "Epoch 2/10000\n",
      "6651/6651 - 18s - loss: 0.6502 - val_loss: 0.6339\n",
      "Epoch 3/10000\n",
      "6651/6651 - 19s - loss: 0.6402 - val_loss: 0.6277\n",
      "Epoch 4/10000\n",
      "6651/6651 - 20s - loss: 0.6347 - val_loss: 0.6255\n",
      "Epoch 5/10000\n",
      "6651/6651 - 20s - loss: 0.6311 - val_loss: 0.6241\n",
      "Epoch 6/10000\n",
      "6651/6651 - 19s - loss: 0.6284 - val_loss: 0.6235\n",
      "Epoch 7/10000\n",
      "6651/6651 - 19s - loss: 0.6261 - val_loss: 0.6185\n",
      "Epoch 8/10000\n",
      "6651/6651 - 19s - loss: 0.6245 - val_loss: 0.6194\n",
      "Epoch 9/10000\n",
      "6651/6651 - 19s - loss: 0.6229 - val_loss: 0.6256\n",
      "Epoch 10/10000\n",
      "6651/6651 - 19s - loss: 0.6217 - val_loss: 0.6171\n",
      "Epoch 11/10000\n",
      "6651/6651 - 20s - loss: 0.6204 - val_loss: 0.6157\n",
      "Epoch 12/10000\n",
      "6651/6651 - 20s - loss: 0.6194 - val_loss: 0.6204\n",
      "Epoch 13/10000\n"
     ]
    }
   ],
   "source": [
    "hist = charge_net.fit(train_data, epochs=10000, verbose=2, callbacks=callbacks, validation_data=test_data)"
   ]
  },
  {
   "cell_type": "code",
   "execution_count": null,
   "metadata": {},
   "outputs": [],
   "source": []
  }
 ],
 "metadata": {
  "kernelspec": {
   "display_name": "Python 3",
   "language": "python",
   "name": "python3"
  },
  "language_info": {
   "codemirror_mode": {
    "name": "ipython",
    "version": 3
   },
   "file_extension": ".py",
   "mimetype": "text/x-python",
   "name": "python",
   "nbconvert_exporter": "python",
   "pygments_lexer": "ipython3",
   "version": "3.7.4"
  }
 },
 "nbformat": 4,
 "nbformat_minor": 4
}
