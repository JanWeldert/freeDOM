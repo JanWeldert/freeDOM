{
 "cells": [
  {
   "cell_type": "code",
   "execution_count": 1,
   "metadata": {},
   "outputs": [],
   "source": [
    "import os\n",
    "os.environ[\"CUDA_VISIBLE_DEVICES\"]=\"0\"\n",
    "#os.environ[\"CUDA_VISIBLE_DEVICES\"]=\"\"\n",
    "os.environ[\"HDF5_USE_FILE_LOCKING\"] = \"FALSE\"\n",
    "\n",
    "import datetime\n",
    "\n",
    "import numpy as np\n",
    "import matplotlib.pyplot as plt\n",
    "import tensorflow as tf\n",
    "\n",
    "%load_ext autoreload\n",
    "%autoreload 2\n",
    "\n",
    "from dataset import Data\n",
    "from callback import Save\n",
    "\n",
    "from transformations import chargenet_trafo, chargenet_trafo_new"
   ]
  },
  {
   "cell_type": "code",
   "execution_count": 2,
   "metadata": {},
   "outputs": [
    {
     "name": "stdout",
     "output_type": "stream",
     "text": [
      "WARNING:tensorflow:From <ipython-input-2-17bb7203622b>:1: is_gpu_available (from tensorflow.python.framework.test_util) is deprecated and will be removed in a future version.\n",
      "Instructions for updating:\n",
      "Use `tf.config.list_physical_devices('GPU')` instead.\n"
     ]
    },
    {
     "data": {
      "text/plain": [
       "False"
      ]
     },
     "execution_count": 2,
     "metadata": {},
     "output_type": "execute_result"
    }
   ],
   "source": [
    "tf.test.is_gpu_available()"
   ]
  },
  {
   "cell_type": "code",
   "execution_count": 3,
   "metadata": {},
   "outputs": [
    {
     "data": {
      "text/plain": [
       "[PhysicalDevice(name='/physical_device:CPU:0', device_type='CPU'),\n",
       " PhysicalDevice(name='/physical_device:XLA_CPU:0', device_type='XLA_CPU'),\n",
       " PhysicalDevice(name='/physical_device:XLA_GPU:0', device_type='XLA_GPU')]"
      ]
     },
     "execution_count": 3,
     "metadata": {},
     "output_type": "execute_result"
    }
   ],
   "source": [
    "tf.config.list_physical_devices()"
   ]
  },
  {
   "cell_type": "code",
   "execution_count": 4,
   "metadata": {},
   "outputs": [],
   "source": [
    "data1 = Data(dir='/home/iwsatlas1/peller/work/oscNext/level3_v01.03/140000_i3cols')\n",
    "\n",
    "data2 = Data(dir='/home/iwsatlas1/peller/work/oscNext/level3_v01.03/120000_i3cols')"
   ]
  },
  {
   "cell_type": "code",
   "execution_count": 5,
   "metadata": {},
   "outputs": [
    {
     "name": "stdout",
     "output_type": "stream",
     "text": [
      "Model: \"model\"\n",
      "__________________________________________________________________________________________________\n",
      "Layer (type)                    Output Shape         Param #     Connected to                     \n",
      "==================================================================================================\n",
      "input_1 (InputLayer)            [(None, 1)]          0                                            \n",
      "__________________________________________________________________________________________________\n",
      "input_2 (InputLayer)            [(None, 8)]          0                                            \n",
      "__________________________________________________________________________________________________\n",
      "chargenet_trafo_new (chargenet_ (None, 9)            0           input_1[0][0]                    \n",
      "__________________________________________________________________________________________________\n",
      "dense (Dense)                   (None, 32)           320         chargenet_trafo_new[0][0]        \n",
      "__________________________________________________________________________________________________\n",
      "dropout (Dropout)               (None, 32)           0           dense[0][0]                      \n",
      "__________________________________________________________________________________________________\n",
      "dense_1 (Dense)                 (None, 64)           2112        dropout[0][0]                    \n",
      "__________________________________________________________________________________________________\n",
      "dropout_1 (Dropout)             (None, 64)           0           dense_1[0][0]                    \n",
      "__________________________________________________________________________________________________\n",
      "dense_2 (Dense)                 (None, 128)          8320        dropout_1[0][0]                  \n",
      "__________________________________________________________________________________________________\n",
      "dropout_2 (Dropout)             (None, 128)          0           dense_2[0][0]                    \n",
      "__________________________________________________________________________________________________\n",
      "dense_3 (Dense)                 (None, 256)          33024       dropout_2[0][0]                  \n",
      "__________________________________________________________________________________________________\n",
      "dropout_3 (Dropout)             (None, 256)          0           dense_3[0][0]                    \n",
      "__________________________________________________________________________________________________\n",
      "dense_4 (Dense)                 (None, 128)          32896       dropout_3[0][0]                  \n",
      "__________________________________________________________________________________________________\n",
      "dropout_4 (Dropout)             (None, 128)          0           dense_4[0][0]                    \n",
      "__________________________________________________________________________________________________\n",
      "dense_5 (Dense)                 (None, 64)           8256        dropout_4[0][0]                  \n",
      "__________________________________________________________________________________________________\n",
      "dropout_5 (Dropout)             (None, 64)           0           dense_5[0][0]                    \n",
      "__________________________________________________________________________________________________\n",
      "dense_6 (Dense)                 (None, 32)           2080        dropout_5[0][0]                  \n",
      "__________________________________________________________________________________________________\n",
      "dropout_6 (Dropout)             (None, 32)           0           dense_6[0][0]                    \n",
      "__________________________________________________________________________________________________\n",
      "dense_7 (Dense)                 (None, 1)            33          dropout_6[0][0]                  \n",
      "==================================================================================================\n",
      "Total params: 87,041\n",
      "Trainable params: 87,041\n",
      "Non-trainable params: 0\n",
      "__________________________________________________________________________________________________\n"
     ]
    }
   ],
   "source": [
    "charge_input = tf.keras.Input(shape=(1,))\n",
    "params_input = tf.keras.Input(shape=(len(data1.labels),))\n",
    "t = chargenet_trafo_new(labels=data1.labels)\n",
    "\n",
    "h = t(charge_input, params_input)\n",
    "h = tf.keras.layers.Dense(32, activation=\"relu\")(h)\n",
    "h = tf.keras.layers.Dropout(0.001)(h)\n",
    "h = tf.keras.layers.Dense(64, activation=\"relu\")(h)\n",
    "h = tf.keras.layers.Dropout(0.001)(h)\n",
    "h = tf.keras.layers.Dense(128, activation=\"relu\")(h)\n",
    "h = tf.keras.layers.Dropout(0.001)(h)\n",
    "h = tf.keras.layers.Dense(256, activation=\"relu\")(h)\n",
    "h = tf.keras.layers.Dropout(0.001)(h)\n",
    "#h = tf.keras.layers.Dense(512, activation=\"relu\")(h)\n",
    "#h = tf.keras.layers.Dropout(0.001)(h)\n",
    "#h = tf.keras.layers.Dense(256, activation=\"relu\")(h)\n",
    "#h = tf.keras.layers.Dropout(0.001)(h)\n",
    "h = tf.keras.layers.Dense(128, activation=\"relu\")(h)\n",
    "h = tf.keras.layers.Dropout(0.001)(h)\n",
    "h = tf.keras.layers.Dense(64, activation=\"relu\")(h)\n",
    "h = tf.keras.layers.Dropout(0.001)(h)\n",
    "h = tf.keras.layers.Dense(32, activation=\"relu\")(h)\n",
    "h = tf.keras.layers.Dropout(0.001)(h)\n",
    "outputs = tf.keras.layers.Dense(1, activation='sigmoid')(h)\n",
    "\n",
    "charge_net = tf.keras.Model(inputs=[charge_input, params_input], outputs=outputs)\n",
    "charge_net.summary()"
   ]
  },
  {
   "cell_type": "code",
   "execution_count": 12,
   "metadata": {},
   "outputs": [],
   "source": [
    "optimizer = tf.keras.optimizers.Adam(0.00001)\n",
    "charge_net.compile(loss='binary_crossentropy', optimizer=optimizer)"
   ]
  },
  {
   "cell_type": "code",
   "execution_count": 7,
   "metadata": {},
   "outputs": [],
   "source": [
    "train_id = 'ChargeNet_' + datetime.datetime.now().strftime(\"%d_%b_%Y-%Hh%M\")"
   ]
  },
  {
   "cell_type": "code",
   "execution_count": 8,
   "metadata": {},
   "outputs": [],
   "source": [
    "callbacks = []\n",
    "callbacks.append(Save(save_every=25, path_template='models/'+train_id+'/epoch_%i', ))\n",
    "callbacks.append(tf.keras.callbacks.TensorBoard(log_dir='logs/'+train_id, histogram_freq=1))"
   ]
  },
  {
   "cell_type": "code",
   "execution_count": 9,
   "metadata": {},
   "outputs": [],
   "source": [
    "train_data1, test_data1 = data1.get_chargenet_data(train_batch_size=4096,\n",
    "                                                 test_batch_size=4096,\n",
    "                                                )\n",
    "train_data2, test_data2 = data2.get_chargenet_data(train_batch_size=4096,\n",
    "                                                 test_batch_size=4096,\n",
    "                                                )"
   ]
  },
  {
   "cell_type": "code",
   "execution_count": 10,
   "metadata": {},
   "outputs": [],
   "source": [
    "train_data = tf.data.Dataset.concatenate(train_data1,train_data2)\n",
    "test_data = tf.data.Dataset.concatenate(test_data1,test_data2)"
   ]
  },
  {
   "cell_type": "code",
   "execution_count": null,
   "metadata": {},
   "outputs": [
    {
     "name": "stdout",
     "output_type": "stream",
     "text": [
      "Epoch 401/600\n",
      "988/988 - 18s - loss: 0.4537 - val_loss: 0.4735\n",
      "Epoch 402/600\n",
      "988/988 - 18s - loss: 0.4534 - val_loss: 0.4763\n",
      "Epoch 403/600\n",
      "988/988 - 17s - loss: 0.4531 - val_loss: 0.4736\n",
      "Epoch 404/600\n",
      "988/988 - 19s - loss: 0.4530 - val_loss: 0.4730\n",
      "Epoch 405/600\n",
      "988/988 - 17s - loss: 0.4533 - val_loss: 0.4766\n",
      "Epoch 406/600\n",
      "988/988 - 17s - loss: 0.4529 - val_loss: 0.4712\n",
      "Epoch 407/600\n",
      "988/988 - 16s - loss: 0.4529 - val_loss: 0.4685\n",
      "Epoch 408/600\n",
      "988/988 - 18s - loss: 0.4528 - val_loss: 0.4745\n",
      "Epoch 409/600\n",
      "988/988 - 19s - loss: 0.4530 - val_loss: 0.4746\n",
      "Epoch 410/600\n",
      "988/988 - 18s - loss: 0.4530 - val_loss: 0.4727\n",
      "Epoch 411/600\n",
      "988/988 - 16s - loss: 0.4528 - val_loss: 0.4762\n",
      "Epoch 412/600\n",
      "988/988 - 16s - loss: 0.4531 - val_loss: 0.4762\n",
      "Epoch 413/600\n",
      "988/988 - 18s - loss: 0.4527 - val_loss: 0.4716\n",
      "Epoch 414/600\n",
      "988/988 - 18s - loss: 0.4529 - val_loss: 0.4718\n",
      "Epoch 415/600\n"
     ]
    }
   ],
   "source": [
    "hist = charge_net.fit(train_data, epochs=600, verbose=2, callbacks=callbacks, validation_data=test_data,\n",
    "                     initial_epoch=len(callbacks[0].hist['train_losses']))"
   ]
  },
  {
   "cell_type": "code",
   "execution_count": null,
   "metadata": {},
   "outputs": [],
   "source": [
    "# best valid loss L7 0.53....52\n",
    "# L3: 0.48 ish\n",
    "# L3 bigger net: 0.48...0.47 with 12+14,\n",
    "# after epoch 400 reduced lr to 0.00001"
   ]
  },
  {
   "cell_type": "code",
   "execution_count": null,
   "metadata": {},
   "outputs": [],
   "source": []
  }
 ],
 "metadata": {
  "kernelspec": {
   "display_name": "Python 3",
   "language": "python",
   "name": "python3"
  },
  "language_info": {
   "codemirror_mode": {
    "name": "ipython",
    "version": 3
   },
   "file_extension": ".py",
   "mimetype": "text/x-python",
   "name": "python",
   "nbconvert_exporter": "python",
   "pygments_lexer": "ipython3",
   "version": "3.7.6"
  }
 },
 "nbformat": 4,
 "nbformat_minor": 4
}
