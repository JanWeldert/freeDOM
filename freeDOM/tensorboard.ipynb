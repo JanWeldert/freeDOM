{
 "cells": [
  {
   "cell_type": "code",
   "execution_count": 3,
   "metadata": {},
   "outputs": [
    {
     "name": "stdout",
     "output_type": "stream",
     "text": [
      "The tensorboard extension is already loaded. To reload it, use:\n",
      "  %reload_ext tensorboard\n"
     ]
    }
   ],
   "source": [
    "# Load the TensorBoard notebook extension\n",
    "%load_ext tensorboard"
   ]
  },
  {
   "cell_type": "code",
   "execution_count": null,
   "metadata": {},
   "outputs": [
    {
     "name": "stdout",
     "output_type": "stream",
     "text": [
      "Serving TensorBoard on localhost; to expose to the network, use a proxy or pass --bind_all\n",
      "TensorBoard 2.0.1 at http://localhost:6006/ (Press CTRL+C to quit)\n",
      "E0508 16:00:35.979267 140263975958272 directory_watcher.py:242] File logs/ChargeNet_08_May_2020-15h59/train/events.out.tfevents.1588946393.cslg-02.8923.515.v2 updated even though the current file is logs/ChargeNet_08_May_2020-15h59/train/events.out.tfevents.1588946397.cslg-02.profile-empty\n",
      "E0508 16:01:41.482234 140263975958272 directory_watcher.py:242] File logs/ChargeNet_08_May_2020-15h57/train/events.out.tfevents.1588946281.cslg-02.8595.567.v2 updated even though the current file is logs/ChargeNet_08_May_2020-15h57/train/events.out.tfevents.1588946337.cslg-02.profile-empty\n",
      "W0508 16:02:21.783100 140263975958272 plugin_event_multiplexer.py:250] Deleting accumulator '08_May_2020-15h36/train'\n",
      "W0508 16:02:21.783440 140263975958272 plugin_event_multiplexer.py:250] Deleting accumulator '08_May_2020-15h36/validation'\n",
      "W0508 16:02:36.886488 140263975958272 plugin_event_multiplexer.py:250] Deleting accumulator 'ChargeNet_08_May_2020-15h57/train'\n",
      "W0508 16:02:36.886685 140263975958272 plugin_event_multiplexer.py:250] Deleting accumulator 'ChargeNet_08_May_2020-15h57/validation'\n"
     ]
    }
   ],
   "source": [
    "!tensorboard --logdir logs/"
   ]
  },
  {
   "cell_type": "code",
   "execution_count": null,
   "metadata": {},
   "outputs": [],
   "source": []
  }
 ],
 "metadata": {
  "kernelspec": {
   "display_name": "Python 3",
   "language": "python",
   "name": "python3"
  },
  "language_info": {
   "codemirror_mode": {
    "name": "ipython",
    "version": 3
   },
   "file_extension": ".py",
   "mimetype": "text/x-python",
   "name": "python",
   "nbconvert_exporter": "python",
   "pygments_lexer": "ipython3",
   "version": "3.7.4"
  }
 },
 "nbformat": 4,
 "nbformat_minor": 4
}
