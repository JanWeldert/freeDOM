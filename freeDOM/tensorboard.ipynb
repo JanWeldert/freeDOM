{
 "cells": [
  {
   "cell_type": "code",
   "execution_count": null,
   "metadata": {},
   "outputs": [
    {
     "name": "stdout",
     "output_type": "stream",
     "text": [
      "Serving TensorBoard on localhost; to expose to the network, use a proxy or pass --bind_all\n",
      "TensorBoard 2.2.1 at http://localhost:6006/ (Press CTRL+C to quit)\n",
      "W0514 20:39:39.043195 139721167554304 plugin_event_accumulator.py:332] Found more than one graph event per run, or there was a metagraph containing a graph_def, as well as one or more graph events.  Overwriting the graph with the newest event.\n",
      "W0514 20:40:38.987683 139721167554304 plugin_event_accumulator.py:332] Found more than one graph event per run, or there was a metagraph containing a graph_def, as well as one or more graph events.  Overwriting the graph with the newest event.\n",
      "W0514 20:40:39.007184 139721167554304 plugin_event_accumulator.py:332] Found more than one graph event per run, or there was a metagraph containing a graph_def, as well as one or more graph events.  Overwriting the graph with the newest event.\n"
     ]
    }
   ],
   "source": [
    "!tensorboard --logdir logs/"
   ]
  },
  {
   "cell_type": "code",
   "execution_count": 8,
   "metadata": {},
   "outputs": [
    {
     "name": "stdout",
     "output_type": "stream",
     "text": [
      "total 40\n",
      "drwxr-xr-x 4 peller BAT 4096 May  8 16:00 ChargeNet_08_May_2020-15h59\n",
      "drwxr-xr-x 4 peller BAT 4096 May 14 15:27 ChargeNet_big_12+1414_May_2020-15h24\n",
      "drwxr-xr-x 4 peller BAT 4096 May 14 15:02 ChargeNet_big_14_May_2020-15h01\n",
      "drwxr-xr-x 4 peller BAT 4096 May 14 15:19 ChargeNet_big_14_May_2020-15h18\n",
      "drwxr-xr-x 4 peller BAT 4096 May 14 11:04 ChargeNet_cpu_14_May_2020-11h03\n",
      "drwxr-xr-x 4 peller BAT 4096 May 14 12:40 ChargeNet_cpu_14_May_2020-12h38\n",
      "drwxr-xr-x 4 peller BAT 4096 May 12 12:27 ChargeNet_L3_12_May_2020-12h26\n",
      "drwxr-xr-x 4 peller BAT 4096 May  8 16:04 HitNet_08_May_2020-16h02\n",
      "drwxr-xr-x 4 peller BAT 4096 May 12 13:23 HitNet_1024_L312_May_2020-13h11\n",
      "drwxr-xr-x 4 peller BAT 4096 May 11 21:12 HitNet_big_11_May_2020-21h09\n"
     ]
    }
   ],
   "source": [
    "!ls -l logs/"
   ]
  },
  {
   "cell_type": "code",
   "execution_count": 12,
   "metadata": {},
   "outputs": [],
   "source": [
    "! rm -rf models/ChargeNet_big_14_May_2020-15h18/"
   ]
  },
  {
   "cell_type": "code",
   "execution_count": null,
   "metadata": {},
   "outputs": [],
   "source": []
  }
 ],
 "metadata": {
  "kernelspec": {
   "display_name": "Python 3",
   "language": "python",
   "name": "python3"
  },
  "language_info": {
   "codemirror_mode": {
    "name": "ipython",
    "version": 3
   },
   "file_extension": ".py",
   "mimetype": "text/x-python",
   "name": "python",
   "nbconvert_exporter": "python",
   "pygments_lexer": "ipython3",
   "version": "3.7.4"
  }
 },
 "nbformat": 4,
 "nbformat_minor": 4
}
