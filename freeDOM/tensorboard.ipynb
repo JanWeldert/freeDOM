{
 "cells": [
  {
   "cell_type": "code",
   "execution_count": null,
   "metadata": {},
   "outputs": [
    {
     "name": "stdout",
     "output_type": "stream",
     "text": [
      "Serving TensorBoard on localhost; to expose to the network, use a proxy or pass --bind_all\n",
      "TensorBoard 2.0.1 at http://localhost:6006/ (Press CTRL+C to quit)\n",
      "W0513 10:06:56.102265 139750586296064 plugin_event_accumulator.py:294] Found more than one graph event per run, or there was a metagraph containing a graph_def, as well as one or more graph events.  Overwriting the graph with the newest event.\n",
      "W0513 10:06:57.123580 139750586296064 plugin_event_accumulator.py:294] Found more than one graph event per run, or there was a metagraph containing a graph_def, as well as one or more graph events.  Overwriting the graph with the newest event.\n",
      "E0513 10:08:53.890950 139750586296064 directory_watcher.py:242] File logs/ChargeNet_L3_BN+DO13_May_2020-09h41/train/events.out.tfevents.1589355679.cslg-02.7301.479021.v2 updated even though the current file is logs/ChargeNet_L3_BN+DO13_May_2020-09h41/train/events.out.tfevents.1589355687.cslg-02.profile-empty\n"
     ]
    }
   ],
   "source": [
    "!tensorboard --logdir logs/"
   ]
  },
  {
   "cell_type": "code",
   "execution_count": null,
   "metadata": {},
   "outputs": [],
   "source": []
  }
 ],
 "metadata": {
  "kernelspec": {
   "display_name": "Python 3",
   "language": "python",
   "name": "python3"
  },
  "language_info": {
   "codemirror_mode": {
    "name": "ipython",
    "version": 3
   },
   "file_extension": ".py",
   "mimetype": "text/x-python",
   "name": "python",
   "nbconvert_exporter": "python",
   "pygments_lexer": "ipython3",
   "version": "3.7.4"
  }
 },
 "nbformat": 4,
 "nbformat_minor": 4
}
